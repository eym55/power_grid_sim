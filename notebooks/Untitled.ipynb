{
 "cells": [
  {
   "cell_type": "code",
   "execution_count": 2,
   "metadata": {},
   "outputs": [],
   "source": [
    "import pypsa\n",
    "import re\n",
    "import numpy as np\n",
    "import matplotlib.pyplot as plt\n",
    "import cartopy.crs as ccrs\n",
    "import pandas as pd\n",
    "from pypsa.networkclustering import get_clustering_from_busmap, busmap_by_kmeans\n",
    "import random"
   ]
  },
  {
   "cell_type": "code",
   "execution_count": 16,
   "metadata": {},
   "outputs": [
    {
     "name": "stderr",
     "output_type": "stream",
     "text": [
      "WARNING:pypsa.io:\n",
      "Importing PyPSA from older version of PyPSA than current version.\n",
      "Please read the release notes at https://pypsa.org/doc/release_notes.html\n",
      "carefully to prepare your network for import. \n",
      "Currently used PyPSA version [0, 18, 1], imported network file PyPSA version [0, 17, 1].\n",
      "\n",
      "INFO:pypsa.io:Imported network scigrid-de.nc has buses, generators, lines, loads, storage_units, transformers\n"
     ]
    }
   ],
   "source": [
    "n = pypsa.examples.scigrid_de()\n",
    "n.lines[\"type\"] = np.nan\n",
    "weighting = pd.Series(1, n.buses.index)\n",
    "busmap2 = busmap_by_kmeans(n, bus_weightings=weighting, n_clusters=15)\n",
    "C2 = get_clustering_from_busmap(n, busmap2)\n",
    "nc2 = C2.network"
   ]
  },
  {
   "cell_type": "code",
   "execution_count": 26,
   "metadata": {},
   "outputs": [
    {
     "data": {
      "text/plain": [
       "27"
      ]
     },
     "execution_count": 26,
     "metadata": {},
     "output_type": "execute_result"
    }
   ],
   "source": [
    "edges = list(zip(nc2.lines.bus0.astype('int'),nc2.lines.bus1.astype('int')))\n",
    "len(edges)"
   ]
  },
  {
   "cell_type": "code",
   "execution_count": 28,
   "metadata": {},
   "outputs": [],
   "source": [
    "edges.extend([(4,3),(9,2),(14,6)])"
   ]
  },
  {
   "cell_type": "code",
   "execution_count": 35,
   "metadata": {},
   "outputs": [
    {
     "name": "stderr",
     "output_type": "stream",
     "text": [
      "INFO:pypsa.io:Imported network 30line.nc has buses, generators, lines, loads\n"
     ]
    }
   ],
   "source": [
    "network = pypsa.Network('../30line.nc')"
   ]
  },
  {
   "cell_type": "code",
   "execution_count": 36,
   "metadata": {},
   "outputs": [
    {
     "data": {
      "application/vnd.plotly.v1+json": {
       "config": {
        "linkText": "Export to plot.ly",
        "plotlyServerURL": "https://plot.ly",
        "showLink": false
       },
       "data": [
        {
         "hoverinfo": "text",
         "marker": {
          "color": "cadetblue",
          "size": 10
         },
         "mode": "markers",
         "opacity": 1,
         "text": [
          "Bus Bus 0",
          "Bus Bus 1",
          "Bus Bus 2",
          "Bus Bus 3",
          "Bus Bus 4",
          "Bus Bus 5",
          "Bus Bus 6",
          "Bus Bus 7",
          "Bus Bus 8",
          "Bus Bus 9",
          "Bus Bus 10",
          "Bus Bus 11",
          "Bus Bus 12",
          "Bus Bus 13",
          "Bus Bus 14"
         ],
         "type": "scatter",
         "x": [
          87,
          12,
          8,
          44,
          100,
          53,
          54,
          56,
          41,
          70,
          18,
          50,
          53,
          18,
          18
         ],
         "y": [
          4,
          21,
          77,
          41,
          70,
          59,
          72,
          66,
          71,
          56,
          52,
          8,
          36,
          25,
          39
         ]
        },
        {
         "hoverinfo": "text",
         "marker": {
          "opacity": 0
         },
         "mode": "markers",
         "text": [
          "Line Linine 0",
          "Line Linine 1",
          "Line Linine 2",
          "Line Linine 3",
          "Line Linine 4",
          "Line Linine 5",
          "Line Linine 6",
          "Line Linine 7",
          "Line Linine 8",
          "Line Linine 9",
          "Line Linine 10",
          "Line Linine 11",
          "Line Linine 12",
          "Line Linine 13",
          "Line Linine 14",
          "Line Linine 15",
          "Line Linine 16",
          "Line Linine 17",
          "Line Linine 18",
          "Line Linine 19",
          "Line Linine 20",
          "Line Linine 21",
          "Line Linine 22",
          "Line Linine 23",
          "Line Linine 24",
          "Line Linine 25",
          "Line Linine 26",
          "Line Linine 27",
          "Line Linine 28",
          "Line Linine 29"
         ],
         "type": "scatter",
         "x": [
          70,
          93.5,
          70,
          15,
          28,
          33,
          41,
          31,
          47,
          75,
          51.5,
          45.5,
          35.5,
          18,
          59,
          37,
          13,
          37,
          31,
          32,
          49,
          42.5,
          77,
          78,
          47,
          55,
          62,
          72,
          39,
          36
         ],
         "y": [
          20,
          37,
          31.5,
          36.5,
          31,
          46.5,
          38.5,
          46.5,
          24.5,
          39,
          33.5,
          39.5,
          30.5,
          32,
          47.5,
          45.5,
          58,
          52.5,
          74.5,
          71.5,
          56.5,
          56,
          71,
          68,
          65,
          69,
          64,
          55.5,
          66.5,
          55.5
         ]
        }
       ],
       "layout": {
        "hovermode": "closest",
        "shapes": [
         {
          "line": {
           "color": "rosybrown",
           "width": 3
          },
          "opacity": 0.8,
          "type": "line",
          "x0": 87,
          "x1": 53,
          "y0": 4,
          "y1": 36
         },
         {
          "line": {
           "color": "rosybrown",
           "width": 3
          },
          "opacity": 0.8,
          "type": "line",
          "x0": 87,
          "x1": 100,
          "y0": 4,
          "y1": 70
         },
         {
          "line": {
           "color": "rosybrown",
           "width": 3
          },
          "opacity": 0.8,
          "type": "line",
          "x0": 87,
          "x1": 53,
          "y0": 4,
          "y1": 59
         },
         {
          "line": {
           "color": "rosybrown",
           "width": 3
          },
          "opacity": 0.8,
          "type": "line",
          "x0": 12,
          "x1": 18,
          "y0": 21,
          "y1": 52
         },
         {
          "line": {
           "color": "rosybrown",
           "width": 3
          },
          "opacity": 0.8,
          "type": "line",
          "x0": 12,
          "x1": 44,
          "y0": 21,
          "y1": 41
         },
         {
          "line": {
           "color": "rosybrown",
           "width": 3
          },
          "opacity": 0.8,
          "type": "line",
          "x0": 12,
          "x1": 54,
          "y0": 21,
          "y1": 72
         },
         {
          "line": {
           "color": "rosybrown",
           "width": 3
          },
          "opacity": 0.8,
          "type": "line",
          "x0": 12,
          "x1": 70,
          "y0": 21,
          "y1": 56
         },
         {
          "line": {
           "color": "rosybrown",
           "width": 3
          },
          "opacity": 0.8,
          "type": "line",
          "x0": 18,
          "x1": 44,
          "y0": 52,
          "y1": 41
         },
         {
          "line": {
           "color": "rosybrown",
           "width": 3
          },
          "opacity": 0.8,
          "type": "line",
          "x0": 50,
          "x1": 44,
          "y0": 8,
          "y1": 41
         },
         {
          "line": {
           "color": "rosybrown",
           "width": 3
          },
          "opacity": 0.8,
          "type": "line",
          "x0": 50,
          "x1": 100,
          "y0": 8,
          "y1": 70
         },
         {
          "line": {
           "color": "rosybrown",
           "width": 3
          },
          "opacity": 0.8,
          "type": "line",
          "x0": 50,
          "x1": 53,
          "y0": 8,
          "y1": 59
         },
         {
          "line": {
           "color": "rosybrown",
           "width": 3
          },
          "opacity": 0.8,
          "type": "line",
          "x0": 50,
          "x1": 41,
          "y0": 8,
          "y1": 71
         },
         {
          "line": {
           "color": "rosybrown",
           "width": 3
          },
          "opacity": 0.8,
          "type": "line",
          "x0": 53,
          "x1": 18,
          "y0": 36,
          "y1": 25
         },
         {
          "line": {
           "color": "rosybrown",
           "width": 3
          },
          "opacity": 0.8,
          "type": "line",
          "x0": 18,
          "x1": 18,
          "y0": 25,
          "y1": 39
         },
         {
          "line": {
           "color": "rosybrown",
           "width": 3
          },
          "opacity": 0.8,
          "type": "line",
          "x0": 18,
          "x1": 100,
          "y0": 25,
          "y1": 70
         },
         {
          "line": {
           "color": "rosybrown",
           "width": 3
          },
          "opacity": 0.8,
          "type": "line",
          "x0": 18,
          "x1": 56,
          "y0": 25,
          "y1": 66
         },
         {
          "line": {
           "color": "rosybrown",
           "width": 3
          },
          "opacity": 0.8,
          "type": "line",
          "x0": 18,
          "x1": 8,
          "y0": 39,
          "y1": 77
         },
         {
          "line": {
           "color": "rosybrown",
           "width": 3
          },
          "opacity": 0.8,
          "type": "line",
          "x0": 18,
          "x1": 56,
          "y0": 39,
          "y1": 66
         },
         {
          "line": {
           "color": "rosybrown",
           "width": 3
          },
          "opacity": 0.8,
          "type": "line",
          "x0": 8,
          "x1": 54,
          "y0": 77,
          "y1": 72
         },
         {
          "line": {
           "color": "rosybrown",
           "width": 3
          },
          "opacity": 0.8,
          "type": "line",
          "x0": 8,
          "x1": 56,
          "y0": 77,
          "y1": 66
         },
         {
          "line": {
           "color": "rosybrown",
           "width": 3
          },
          "opacity": 0.8,
          "type": "line",
          "x0": 44,
          "x1": 54,
          "y0": 41,
          "y1": 72
         },
         {
          "line": {
           "color": "rosybrown",
           "width": 3
          },
          "opacity": 0.8,
          "type": "line",
          "x0": 44,
          "x1": 41,
          "y0": 41,
          "y1": 71
         },
         {
          "line": {
           "color": "rosybrown",
           "width": 3
          },
          "opacity": 0.8,
          "type": "line",
          "x0": 100,
          "x1": 54,
          "y0": 70,
          "y1": 72
         },
         {
          "line": {
           "color": "rosybrown",
           "width": 3
          },
          "opacity": 0.8,
          "type": "line",
          "x0": 100,
          "x1": 56,
          "y0": 70,
          "y1": 66
         },
         {
          "line": {
           "color": "rosybrown",
           "width": 3
          },
          "opacity": 0.8,
          "type": "line",
          "x0": 53,
          "x1": 41,
          "y0": 59,
          "y1": 71
         },
         {
          "line": {
           "color": "rosybrown",
           "width": 3
          },
          "opacity": 0.8,
          "type": "line",
          "x0": 54,
          "x1": 56,
          "y0": 72,
          "y1": 66
         },
         {
          "line": {
           "color": "rosybrown",
           "width": 3
          },
          "opacity": 0.8,
          "type": "line",
          "x0": 54,
          "x1": 70,
          "y0": 72,
          "y1": 56
         },
         {
          "line": {
           "color": "rosybrown",
           "width": 3
          },
          "opacity": 0.8,
          "type": "line",
          "x0": 100,
          "x1": 44,
          "y0": 70,
          "y1": 41
         },
         {
          "line": {
           "color": "rosybrown",
           "width": 3
          },
          "opacity": 0.8,
          "type": "line",
          "x0": 70,
          "x1": 8,
          "y0": 56,
          "y1": 77
         },
         {
          "line": {
           "color": "rosybrown",
           "width": 3
          },
          "opacity": 0.8,
          "type": "line",
          "x0": 18,
          "x1": 54,
          "y0": 39,
          "y1": 72
         }
        ],
        "showlegend": false,
        "template": {
         "data": {
          "bar": [
           {
            "error_x": {
             "color": "#2a3f5f"
            },
            "error_y": {
             "color": "#2a3f5f"
            },
            "marker": {
             "line": {
              "color": "#E5ECF6",
              "width": 0.5
             },
             "pattern": {
              "fillmode": "overlay",
              "size": 10,
              "solidity": 0.2
             }
            },
            "type": "bar"
           }
          ],
          "barpolar": [
           {
            "marker": {
             "line": {
              "color": "#E5ECF6",
              "width": 0.5
             },
             "pattern": {
              "fillmode": "overlay",
              "size": 10,
              "solidity": 0.2
             }
            },
            "type": "barpolar"
           }
          ],
          "carpet": [
           {
            "aaxis": {
             "endlinecolor": "#2a3f5f",
             "gridcolor": "white",
             "linecolor": "white",
             "minorgridcolor": "white",
             "startlinecolor": "#2a3f5f"
            },
            "baxis": {
             "endlinecolor": "#2a3f5f",
             "gridcolor": "white",
             "linecolor": "white",
             "minorgridcolor": "white",
             "startlinecolor": "#2a3f5f"
            },
            "type": "carpet"
           }
          ],
          "choropleth": [
           {
            "colorbar": {
             "outlinewidth": 0,
             "ticks": ""
            },
            "type": "choropleth"
           }
          ],
          "contour": [
           {
            "colorbar": {
             "outlinewidth": 0,
             "ticks": ""
            },
            "colorscale": [
             [
              0,
              "#0d0887"
             ],
             [
              0.1111111111111111,
              "#46039f"
             ],
             [
              0.2222222222222222,
              "#7201a8"
             ],
             [
              0.3333333333333333,
              "#9c179e"
             ],
             [
              0.4444444444444444,
              "#bd3786"
             ],
             [
              0.5555555555555556,
              "#d8576b"
             ],
             [
              0.6666666666666666,
              "#ed7953"
             ],
             [
              0.7777777777777778,
              "#fb9f3a"
             ],
             [
              0.8888888888888888,
              "#fdca26"
             ],
             [
              1,
              "#f0f921"
             ]
            ],
            "type": "contour"
           }
          ],
          "contourcarpet": [
           {
            "colorbar": {
             "outlinewidth": 0,
             "ticks": ""
            },
            "type": "contourcarpet"
           }
          ],
          "heatmap": [
           {
            "colorbar": {
             "outlinewidth": 0,
             "ticks": ""
            },
            "colorscale": [
             [
              0,
              "#0d0887"
             ],
             [
              0.1111111111111111,
              "#46039f"
             ],
             [
              0.2222222222222222,
              "#7201a8"
             ],
             [
              0.3333333333333333,
              "#9c179e"
             ],
             [
              0.4444444444444444,
              "#bd3786"
             ],
             [
              0.5555555555555556,
              "#d8576b"
             ],
             [
              0.6666666666666666,
              "#ed7953"
             ],
             [
              0.7777777777777778,
              "#fb9f3a"
             ],
             [
              0.8888888888888888,
              "#fdca26"
             ],
             [
              1,
              "#f0f921"
             ]
            ],
            "type": "heatmap"
           }
          ],
          "heatmapgl": [
           {
            "colorbar": {
             "outlinewidth": 0,
             "ticks": ""
            },
            "colorscale": [
             [
              0,
              "#0d0887"
             ],
             [
              0.1111111111111111,
              "#46039f"
             ],
             [
              0.2222222222222222,
              "#7201a8"
             ],
             [
              0.3333333333333333,
              "#9c179e"
             ],
             [
              0.4444444444444444,
              "#bd3786"
             ],
             [
              0.5555555555555556,
              "#d8576b"
             ],
             [
              0.6666666666666666,
              "#ed7953"
             ],
             [
              0.7777777777777778,
              "#fb9f3a"
             ],
             [
              0.8888888888888888,
              "#fdca26"
             ],
             [
              1,
              "#f0f921"
             ]
            ],
            "type": "heatmapgl"
           }
          ],
          "histogram": [
           {
            "marker": {
             "pattern": {
              "fillmode": "overlay",
              "size": 10,
              "solidity": 0.2
             }
            },
            "type": "histogram"
           }
          ],
          "histogram2d": [
           {
            "colorbar": {
             "outlinewidth": 0,
             "ticks": ""
            },
            "colorscale": [
             [
              0,
              "#0d0887"
             ],
             [
              0.1111111111111111,
              "#46039f"
             ],
             [
              0.2222222222222222,
              "#7201a8"
             ],
             [
              0.3333333333333333,
              "#9c179e"
             ],
             [
              0.4444444444444444,
              "#bd3786"
             ],
             [
              0.5555555555555556,
              "#d8576b"
             ],
             [
              0.6666666666666666,
              "#ed7953"
             ],
             [
              0.7777777777777778,
              "#fb9f3a"
             ],
             [
              0.8888888888888888,
              "#fdca26"
             ],
             [
              1,
              "#f0f921"
             ]
            ],
            "type": "histogram2d"
           }
          ],
          "histogram2dcontour": [
           {
            "colorbar": {
             "outlinewidth": 0,
             "ticks": ""
            },
            "colorscale": [
             [
              0,
              "#0d0887"
             ],
             [
              0.1111111111111111,
              "#46039f"
             ],
             [
              0.2222222222222222,
              "#7201a8"
             ],
             [
              0.3333333333333333,
              "#9c179e"
             ],
             [
              0.4444444444444444,
              "#bd3786"
             ],
             [
              0.5555555555555556,
              "#d8576b"
             ],
             [
              0.6666666666666666,
              "#ed7953"
             ],
             [
              0.7777777777777778,
              "#fb9f3a"
             ],
             [
              0.8888888888888888,
              "#fdca26"
             ],
             [
              1,
              "#f0f921"
             ]
            ],
            "type": "histogram2dcontour"
           }
          ],
          "mesh3d": [
           {
            "colorbar": {
             "outlinewidth": 0,
             "ticks": ""
            },
            "type": "mesh3d"
           }
          ],
          "parcoords": [
           {
            "line": {
             "colorbar": {
              "outlinewidth": 0,
              "ticks": ""
             }
            },
            "type": "parcoords"
           }
          ],
          "pie": [
           {
            "automargin": true,
            "type": "pie"
           }
          ],
          "scatter": [
           {
            "marker": {
             "colorbar": {
              "outlinewidth": 0,
              "ticks": ""
             }
            },
            "type": "scatter"
           }
          ],
          "scatter3d": [
           {
            "line": {
             "colorbar": {
              "outlinewidth": 0,
              "ticks": ""
             }
            },
            "marker": {
             "colorbar": {
              "outlinewidth": 0,
              "ticks": ""
             }
            },
            "type": "scatter3d"
           }
          ],
          "scattercarpet": [
           {
            "marker": {
             "colorbar": {
              "outlinewidth": 0,
              "ticks": ""
             }
            },
            "type": "scattercarpet"
           }
          ],
          "scattergeo": [
           {
            "marker": {
             "colorbar": {
              "outlinewidth": 0,
              "ticks": ""
             }
            },
            "type": "scattergeo"
           }
          ],
          "scattergl": [
           {
            "marker": {
             "colorbar": {
              "outlinewidth": 0,
              "ticks": ""
             }
            },
            "type": "scattergl"
           }
          ],
          "scattermapbox": [
           {
            "marker": {
             "colorbar": {
              "outlinewidth": 0,
              "ticks": ""
             }
            },
            "type": "scattermapbox"
           }
          ],
          "scatterpolar": [
           {
            "marker": {
             "colorbar": {
              "outlinewidth": 0,
              "ticks": ""
             }
            },
            "type": "scatterpolar"
           }
          ],
          "scatterpolargl": [
           {
            "marker": {
             "colorbar": {
              "outlinewidth": 0,
              "ticks": ""
             }
            },
            "type": "scatterpolargl"
           }
          ],
          "scatterternary": [
           {
            "marker": {
             "colorbar": {
              "outlinewidth": 0,
              "ticks": ""
             }
            },
            "type": "scatterternary"
           }
          ],
          "surface": [
           {
            "colorbar": {
             "outlinewidth": 0,
             "ticks": ""
            },
            "colorscale": [
             [
              0,
              "#0d0887"
             ],
             [
              0.1111111111111111,
              "#46039f"
             ],
             [
              0.2222222222222222,
              "#7201a8"
             ],
             [
              0.3333333333333333,
              "#9c179e"
             ],
             [
              0.4444444444444444,
              "#bd3786"
             ],
             [
              0.5555555555555556,
              "#d8576b"
             ],
             [
              0.6666666666666666,
              "#ed7953"
             ],
             [
              0.7777777777777778,
              "#fb9f3a"
             ],
             [
              0.8888888888888888,
              "#fdca26"
             ],
             [
              1,
              "#f0f921"
             ]
            ],
            "type": "surface"
           }
          ],
          "table": [
           {
            "cells": {
             "fill": {
              "color": "#EBF0F8"
             },
             "line": {
              "color": "white"
             }
            },
            "header": {
             "fill": {
              "color": "#C8D4E3"
             },
             "line": {
              "color": "white"
             }
            },
            "type": "table"
           }
          ]
         },
         "layout": {
          "annotationdefaults": {
           "arrowcolor": "#2a3f5f",
           "arrowhead": 0,
           "arrowwidth": 1
          },
          "autotypenumbers": "strict",
          "coloraxis": {
           "colorbar": {
            "outlinewidth": 0,
            "ticks": ""
           }
          },
          "colorscale": {
           "diverging": [
            [
             0,
             "#8e0152"
            ],
            [
             0.1,
             "#c51b7d"
            ],
            [
             0.2,
             "#de77ae"
            ],
            [
             0.3,
             "#f1b6da"
            ],
            [
             0.4,
             "#fde0ef"
            ],
            [
             0.5,
             "#f7f7f7"
            ],
            [
             0.6,
             "#e6f5d0"
            ],
            [
             0.7,
             "#b8e186"
            ],
            [
             0.8,
             "#7fbc41"
            ],
            [
             0.9,
             "#4d9221"
            ],
            [
             1,
             "#276419"
            ]
           ],
           "sequential": [
            [
             0,
             "#0d0887"
            ],
            [
             0.1111111111111111,
             "#46039f"
            ],
            [
             0.2222222222222222,
             "#7201a8"
            ],
            [
             0.3333333333333333,
             "#9c179e"
            ],
            [
             0.4444444444444444,
             "#bd3786"
            ],
            [
             0.5555555555555556,
             "#d8576b"
            ],
            [
             0.6666666666666666,
             "#ed7953"
            ],
            [
             0.7777777777777778,
             "#fb9f3a"
            ],
            [
             0.8888888888888888,
             "#fdca26"
            ],
            [
             1,
             "#f0f921"
            ]
           ],
           "sequentialminus": [
            [
             0,
             "#0d0887"
            ],
            [
             0.1111111111111111,
             "#46039f"
            ],
            [
             0.2222222222222222,
             "#7201a8"
            ],
            [
             0.3333333333333333,
             "#9c179e"
            ],
            [
             0.4444444444444444,
             "#bd3786"
            ],
            [
             0.5555555555555556,
             "#d8576b"
            ],
            [
             0.6666666666666666,
             "#ed7953"
            ],
            [
             0.7777777777777778,
             "#fb9f3a"
            ],
            [
             0.8888888888888888,
             "#fdca26"
            ],
            [
             1,
             "#f0f921"
            ]
           ]
          },
          "colorway": [
           "#636efa",
           "#EF553B",
           "#00cc96",
           "#ab63fa",
           "#FFA15A",
           "#19d3f3",
           "#FF6692",
           "#B6E880",
           "#FF97FF",
           "#FECB52"
          ],
          "font": {
           "color": "#2a3f5f"
          },
          "geo": {
           "bgcolor": "white",
           "lakecolor": "white",
           "landcolor": "#E5ECF6",
           "showlakes": true,
           "showland": true,
           "subunitcolor": "white"
          },
          "hoverlabel": {
           "align": "left"
          },
          "hovermode": "closest",
          "mapbox": {
           "style": "light"
          },
          "paper_bgcolor": "white",
          "plot_bgcolor": "#E5ECF6",
          "polar": {
           "angularaxis": {
            "gridcolor": "white",
            "linecolor": "white",
            "ticks": ""
           },
           "bgcolor": "#E5ECF6",
           "radialaxis": {
            "gridcolor": "white",
            "linecolor": "white",
            "ticks": ""
           }
          },
          "scene": {
           "xaxis": {
            "backgroundcolor": "#E5ECF6",
            "gridcolor": "white",
            "gridwidth": 2,
            "linecolor": "white",
            "showbackground": true,
            "ticks": "",
            "zerolinecolor": "white"
           },
           "yaxis": {
            "backgroundcolor": "#E5ECF6",
            "gridcolor": "white",
            "gridwidth": 2,
            "linecolor": "white",
            "showbackground": true,
            "ticks": "",
            "zerolinecolor": "white"
           },
           "zaxis": {
            "backgroundcolor": "#E5ECF6",
            "gridcolor": "white",
            "gridwidth": 2,
            "linecolor": "white",
            "showbackground": true,
            "ticks": "",
            "zerolinecolor": "white"
           }
          },
          "shapedefaults": {
           "line": {
            "color": "#2a3f5f"
           }
          },
          "ternary": {
           "aaxis": {
            "gridcolor": "white",
            "linecolor": "white",
            "ticks": ""
           },
           "baxis": {
            "gridcolor": "white",
            "linecolor": "white",
            "ticks": ""
           },
           "bgcolor": "#E5ECF6",
           "caxis": {
            "gridcolor": "white",
            "linecolor": "white",
            "ticks": ""
           }
          },
          "title": {
           "x": 0.05
          },
          "xaxis": {
           "automargin": true,
           "gridcolor": "white",
           "linecolor": "white",
           "ticks": "",
           "title": {
            "standoff": 15
           },
           "zerolinecolor": "white",
           "zerolinewidth": 2
          },
          "yaxis": {
           "automargin": true,
           "gridcolor": "white",
           "linecolor": "white",
           "ticks": "",
           "title": {
            "standoff": 15
           },
           "zerolinecolor": "white",
           "zerolinewidth": 2
          }
         }
        },
        "title": {
         "text": ""
        }
       }
      },
      "text/html": [
       "<div>                            <div id=\"3ea28748-c28c-4d8e-80ff-ec2884f636be\" class=\"plotly-graph-div\" style=\"height:525px; width:100%;\"></div>            <script type=\"text/javascript\">                require([\"plotly\"], function(Plotly) {                    window.PLOTLYENV=window.PLOTLYENV || {};                                    if (document.getElementById(\"3ea28748-c28c-4d8e-80ff-ec2884f636be\")) {                    Plotly.newPlot(                        \"3ea28748-c28c-4d8e-80ff-ec2884f636be\",                        [{\"hoverinfo\":\"text\",\"marker\":{\"color\":\"cadetblue\",\"size\":10},\"mode\":\"markers\",\"opacity\":1,\"text\":[\"Bus Bus 0\",\"Bus Bus 1\",\"Bus Bus 2\",\"Bus Bus 3\",\"Bus Bus 4\",\"Bus Bus 5\",\"Bus Bus 6\",\"Bus Bus 7\",\"Bus Bus 8\",\"Bus Bus 9\",\"Bus Bus 10\",\"Bus Bus 11\",\"Bus Bus 12\",\"Bus Bus 13\",\"Bus Bus 14\"],\"x\":[87.0,12.0,8.0,44.0,100.0,53.0,54.0,56.0,41.0,70.0,18.0,50.0,53.0,18.0,18.0],\"y\":[4.0,21.0,77.0,41.0,70.0,59.0,72.0,66.0,71.0,56.0,52.0,8.0,36.0,25.0,39.0],\"type\":\"scatter\"},{\"hoverinfo\":\"text\",\"marker\":{\"opacity\":0.0},\"mode\":\"markers\",\"text\":[\"Line Linine 0\",\"Line Linine 1\",\"Line Linine 2\",\"Line Linine 3\",\"Line Linine 4\",\"Line Linine 5\",\"Line Linine 6\",\"Line Linine 7\",\"Line Linine 8\",\"Line Linine 9\",\"Line Linine 10\",\"Line Linine 11\",\"Line Linine 12\",\"Line Linine 13\",\"Line Linine 14\",\"Line Linine 15\",\"Line Linine 16\",\"Line Linine 17\",\"Line Linine 18\",\"Line Linine 19\",\"Line Linine 20\",\"Line Linine 21\",\"Line Linine 22\",\"Line Linine 23\",\"Line Linine 24\",\"Line Linine 25\",\"Line Linine 26\",\"Line Linine 27\",\"Line Linine 28\",\"Line Linine 29\"],\"x\":[70.0,93.5,70.0,15.0,28.0,33.0,41.0,31.0,47.0,75.0,51.5,45.5,35.5,18.0,59.0,37.0,13.0,37.0,31.0,32.0,49.0,42.5,77.0,78.0,47.0,55.0,62.0,72.0,39.0,36.0],\"y\":[20.0,37.0,31.5,36.5,31.0,46.5,38.5,46.5,24.5,39.0,33.5,39.5,30.5,32.0,47.5,45.5,58.0,52.5,74.5,71.5,56.5,56.0,71.0,68.0,65.0,69.0,64.0,55.5,66.5,55.5],\"type\":\"scatter\"}],                        {\"hovermode\":\"closest\",\"shapes\":[{\"line\":{\"color\":\"rosybrown\",\"width\":3},\"opacity\":0.8,\"type\":\"line\",\"x0\":87.0,\"x1\":53.0,\"y0\":4.0,\"y1\":36.0},{\"line\":{\"color\":\"rosybrown\",\"width\":3},\"opacity\":0.8,\"type\":\"line\",\"x0\":87.0,\"x1\":100.0,\"y0\":4.0,\"y1\":70.0},{\"line\":{\"color\":\"rosybrown\",\"width\":3},\"opacity\":0.8,\"type\":\"line\",\"x0\":87.0,\"x1\":53.0,\"y0\":4.0,\"y1\":59.0},{\"line\":{\"color\":\"rosybrown\",\"width\":3},\"opacity\":0.8,\"type\":\"line\",\"x0\":12.0,\"x1\":18.0,\"y0\":21.0,\"y1\":52.0},{\"line\":{\"color\":\"rosybrown\",\"width\":3},\"opacity\":0.8,\"type\":\"line\",\"x0\":12.0,\"x1\":44.0,\"y0\":21.0,\"y1\":41.0},{\"line\":{\"color\":\"rosybrown\",\"width\":3},\"opacity\":0.8,\"type\":\"line\",\"x0\":12.0,\"x1\":54.0,\"y0\":21.0,\"y1\":72.0},{\"line\":{\"color\":\"rosybrown\",\"width\":3},\"opacity\":0.8,\"type\":\"line\",\"x0\":12.0,\"x1\":70.0,\"y0\":21.0,\"y1\":56.0},{\"line\":{\"color\":\"rosybrown\",\"width\":3},\"opacity\":0.8,\"type\":\"line\",\"x0\":18.0,\"x1\":44.0,\"y0\":52.0,\"y1\":41.0},{\"line\":{\"color\":\"rosybrown\",\"width\":3},\"opacity\":0.8,\"type\":\"line\",\"x0\":50.0,\"x1\":44.0,\"y0\":8.0,\"y1\":41.0},{\"line\":{\"color\":\"rosybrown\",\"width\":3},\"opacity\":0.8,\"type\":\"line\",\"x0\":50.0,\"x1\":100.0,\"y0\":8.0,\"y1\":70.0},{\"line\":{\"color\":\"rosybrown\",\"width\":3},\"opacity\":0.8,\"type\":\"line\",\"x0\":50.0,\"x1\":53.0,\"y0\":8.0,\"y1\":59.0},{\"line\":{\"color\":\"rosybrown\",\"width\":3},\"opacity\":0.8,\"type\":\"line\",\"x0\":50.0,\"x1\":41.0,\"y0\":8.0,\"y1\":71.0},{\"line\":{\"color\":\"rosybrown\",\"width\":3},\"opacity\":0.8,\"type\":\"line\",\"x0\":53.0,\"x1\":18.0,\"y0\":36.0,\"y1\":25.0},{\"line\":{\"color\":\"rosybrown\",\"width\":3},\"opacity\":0.8,\"type\":\"line\",\"x0\":18.0,\"x1\":18.0,\"y0\":25.0,\"y1\":39.0},{\"line\":{\"color\":\"rosybrown\",\"width\":3},\"opacity\":0.8,\"type\":\"line\",\"x0\":18.0,\"x1\":100.0,\"y0\":25.0,\"y1\":70.0},{\"line\":{\"color\":\"rosybrown\",\"width\":3},\"opacity\":0.8,\"type\":\"line\",\"x0\":18.0,\"x1\":56.0,\"y0\":25.0,\"y1\":66.0},{\"line\":{\"color\":\"rosybrown\",\"width\":3},\"opacity\":0.8,\"type\":\"line\",\"x0\":18.0,\"x1\":8.0,\"y0\":39.0,\"y1\":77.0},{\"line\":{\"color\":\"rosybrown\",\"width\":3},\"opacity\":0.8,\"type\":\"line\",\"x0\":18.0,\"x1\":56.0,\"y0\":39.0,\"y1\":66.0},{\"line\":{\"color\":\"rosybrown\",\"width\":3},\"opacity\":0.8,\"type\":\"line\",\"x0\":8.0,\"x1\":54.0,\"y0\":77.0,\"y1\":72.0},{\"line\":{\"color\":\"rosybrown\",\"width\":3},\"opacity\":0.8,\"type\":\"line\",\"x0\":8.0,\"x1\":56.0,\"y0\":77.0,\"y1\":66.0},{\"line\":{\"color\":\"rosybrown\",\"width\":3},\"opacity\":0.8,\"type\":\"line\",\"x0\":44.0,\"x1\":54.0,\"y0\":41.0,\"y1\":72.0},{\"line\":{\"color\":\"rosybrown\",\"width\":3},\"opacity\":0.8,\"type\":\"line\",\"x0\":44.0,\"x1\":41.0,\"y0\":41.0,\"y1\":71.0},{\"line\":{\"color\":\"rosybrown\",\"width\":3},\"opacity\":0.8,\"type\":\"line\",\"x0\":100.0,\"x1\":54.0,\"y0\":70.0,\"y1\":72.0},{\"line\":{\"color\":\"rosybrown\",\"width\":3},\"opacity\":0.8,\"type\":\"line\",\"x0\":100.0,\"x1\":56.0,\"y0\":70.0,\"y1\":66.0},{\"line\":{\"color\":\"rosybrown\",\"width\":3},\"opacity\":0.8,\"type\":\"line\",\"x0\":53.0,\"x1\":41.0,\"y0\":59.0,\"y1\":71.0},{\"line\":{\"color\":\"rosybrown\",\"width\":3},\"opacity\":0.8,\"type\":\"line\",\"x0\":54.0,\"x1\":56.0,\"y0\":72.0,\"y1\":66.0},{\"line\":{\"color\":\"rosybrown\",\"width\":3},\"opacity\":0.8,\"type\":\"line\",\"x0\":54.0,\"x1\":70.0,\"y0\":72.0,\"y1\":56.0},{\"line\":{\"color\":\"rosybrown\",\"width\":3},\"opacity\":0.8,\"type\":\"line\",\"x0\":100.0,\"x1\":44.0,\"y0\":70.0,\"y1\":41.0},{\"line\":{\"color\":\"rosybrown\",\"width\":3},\"opacity\":0.8,\"type\":\"line\",\"x0\":70.0,\"x1\":8.0,\"y0\":56.0,\"y1\":77.0},{\"line\":{\"color\":\"rosybrown\",\"width\":3},\"opacity\":0.8,\"type\":\"line\",\"x0\":18.0,\"x1\":54.0,\"y0\":39.0,\"y1\":72.0}],\"showlegend\":false,\"template\":{\"data\":{\"barpolar\":[{\"marker\":{\"line\":{\"color\":\"#E5ECF6\",\"width\":0.5},\"pattern\":{\"fillmode\":\"overlay\",\"size\":10,\"solidity\":0.2}},\"type\":\"barpolar\"}],\"bar\":[{\"error_x\":{\"color\":\"#2a3f5f\"},\"error_y\":{\"color\":\"#2a3f5f\"},\"marker\":{\"line\":{\"color\":\"#E5ECF6\",\"width\":0.5},\"pattern\":{\"fillmode\":\"overlay\",\"size\":10,\"solidity\":0.2}},\"type\":\"bar\"}],\"carpet\":[{\"aaxis\":{\"endlinecolor\":\"#2a3f5f\",\"gridcolor\":\"white\",\"linecolor\":\"white\",\"minorgridcolor\":\"white\",\"startlinecolor\":\"#2a3f5f\"},\"baxis\":{\"endlinecolor\":\"#2a3f5f\",\"gridcolor\":\"white\",\"linecolor\":\"white\",\"minorgridcolor\":\"white\",\"startlinecolor\":\"#2a3f5f\"},\"type\":\"carpet\"}],\"choropleth\":[{\"colorbar\":{\"outlinewidth\":0,\"ticks\":\"\"},\"type\":\"choropleth\"}],\"contourcarpet\":[{\"colorbar\":{\"outlinewidth\":0,\"ticks\":\"\"},\"type\":\"contourcarpet\"}],\"contour\":[{\"colorbar\":{\"outlinewidth\":0,\"ticks\":\"\"},\"colorscale\":[[0.0,\"#0d0887\"],[0.1111111111111111,\"#46039f\"],[0.2222222222222222,\"#7201a8\"],[0.3333333333333333,\"#9c179e\"],[0.4444444444444444,\"#bd3786\"],[0.5555555555555556,\"#d8576b\"],[0.6666666666666666,\"#ed7953\"],[0.7777777777777778,\"#fb9f3a\"],[0.8888888888888888,\"#fdca26\"],[1.0,\"#f0f921\"]],\"type\":\"contour\"}],\"heatmapgl\":[{\"colorbar\":{\"outlinewidth\":0,\"ticks\":\"\"},\"colorscale\":[[0.0,\"#0d0887\"],[0.1111111111111111,\"#46039f\"],[0.2222222222222222,\"#7201a8\"],[0.3333333333333333,\"#9c179e\"],[0.4444444444444444,\"#bd3786\"],[0.5555555555555556,\"#d8576b\"],[0.6666666666666666,\"#ed7953\"],[0.7777777777777778,\"#fb9f3a\"],[0.8888888888888888,\"#fdca26\"],[1.0,\"#f0f921\"]],\"type\":\"heatmapgl\"}],\"heatmap\":[{\"colorbar\":{\"outlinewidth\":0,\"ticks\":\"\"},\"colorscale\":[[0.0,\"#0d0887\"],[0.1111111111111111,\"#46039f\"],[0.2222222222222222,\"#7201a8\"],[0.3333333333333333,\"#9c179e\"],[0.4444444444444444,\"#bd3786\"],[0.5555555555555556,\"#d8576b\"],[0.6666666666666666,\"#ed7953\"],[0.7777777777777778,\"#fb9f3a\"],[0.8888888888888888,\"#fdca26\"],[1.0,\"#f0f921\"]],\"type\":\"heatmap\"}],\"histogram2dcontour\":[{\"colorbar\":{\"outlinewidth\":0,\"ticks\":\"\"},\"colorscale\":[[0.0,\"#0d0887\"],[0.1111111111111111,\"#46039f\"],[0.2222222222222222,\"#7201a8\"],[0.3333333333333333,\"#9c179e\"],[0.4444444444444444,\"#bd3786\"],[0.5555555555555556,\"#d8576b\"],[0.6666666666666666,\"#ed7953\"],[0.7777777777777778,\"#fb9f3a\"],[0.8888888888888888,\"#fdca26\"],[1.0,\"#f0f921\"]],\"type\":\"histogram2dcontour\"}],\"histogram2d\":[{\"colorbar\":{\"outlinewidth\":0,\"ticks\":\"\"},\"colorscale\":[[0.0,\"#0d0887\"],[0.1111111111111111,\"#46039f\"],[0.2222222222222222,\"#7201a8\"],[0.3333333333333333,\"#9c179e\"],[0.4444444444444444,\"#bd3786\"],[0.5555555555555556,\"#d8576b\"],[0.6666666666666666,\"#ed7953\"],[0.7777777777777778,\"#fb9f3a\"],[0.8888888888888888,\"#fdca26\"],[1.0,\"#f0f921\"]],\"type\":\"histogram2d\"}],\"histogram\":[{\"marker\":{\"pattern\":{\"fillmode\":\"overlay\",\"size\":10,\"solidity\":0.2}},\"type\":\"histogram\"}],\"mesh3d\":[{\"colorbar\":{\"outlinewidth\":0,\"ticks\":\"\"},\"type\":\"mesh3d\"}],\"parcoords\":[{\"line\":{\"colorbar\":{\"outlinewidth\":0,\"ticks\":\"\"}},\"type\":\"parcoords\"}],\"pie\":[{\"automargin\":true,\"type\":\"pie\"}],\"scatter3d\":[{\"line\":{\"colorbar\":{\"outlinewidth\":0,\"ticks\":\"\"}},\"marker\":{\"colorbar\":{\"outlinewidth\":0,\"ticks\":\"\"}},\"type\":\"scatter3d\"}],\"scattercarpet\":[{\"marker\":{\"colorbar\":{\"outlinewidth\":0,\"ticks\":\"\"}},\"type\":\"scattercarpet\"}],\"scattergeo\":[{\"marker\":{\"colorbar\":{\"outlinewidth\":0,\"ticks\":\"\"}},\"type\":\"scattergeo\"}],\"scattergl\":[{\"marker\":{\"colorbar\":{\"outlinewidth\":0,\"ticks\":\"\"}},\"type\":\"scattergl\"}],\"scattermapbox\":[{\"marker\":{\"colorbar\":{\"outlinewidth\":0,\"ticks\":\"\"}},\"type\":\"scattermapbox\"}],\"scatterpolargl\":[{\"marker\":{\"colorbar\":{\"outlinewidth\":0,\"ticks\":\"\"}},\"type\":\"scatterpolargl\"}],\"scatterpolar\":[{\"marker\":{\"colorbar\":{\"outlinewidth\":0,\"ticks\":\"\"}},\"type\":\"scatterpolar\"}],\"scatter\":[{\"marker\":{\"colorbar\":{\"outlinewidth\":0,\"ticks\":\"\"}},\"type\":\"scatter\"}],\"scatterternary\":[{\"marker\":{\"colorbar\":{\"outlinewidth\":0,\"ticks\":\"\"}},\"type\":\"scatterternary\"}],\"surface\":[{\"colorbar\":{\"outlinewidth\":0,\"ticks\":\"\"},\"colorscale\":[[0.0,\"#0d0887\"],[0.1111111111111111,\"#46039f\"],[0.2222222222222222,\"#7201a8\"],[0.3333333333333333,\"#9c179e\"],[0.4444444444444444,\"#bd3786\"],[0.5555555555555556,\"#d8576b\"],[0.6666666666666666,\"#ed7953\"],[0.7777777777777778,\"#fb9f3a\"],[0.8888888888888888,\"#fdca26\"],[1.0,\"#f0f921\"]],\"type\":\"surface\"}],\"table\":[{\"cells\":{\"fill\":{\"color\":\"#EBF0F8\"},\"line\":{\"color\":\"white\"}},\"header\":{\"fill\":{\"color\":\"#C8D4E3\"},\"line\":{\"color\":\"white\"}},\"type\":\"table\"}]},\"layout\":{\"annotationdefaults\":{\"arrowcolor\":\"#2a3f5f\",\"arrowhead\":0,\"arrowwidth\":1},\"autotypenumbers\":\"strict\",\"coloraxis\":{\"colorbar\":{\"outlinewidth\":0,\"ticks\":\"\"}},\"colorscale\":{\"diverging\":[[0,\"#8e0152\"],[0.1,\"#c51b7d\"],[0.2,\"#de77ae\"],[0.3,\"#f1b6da\"],[0.4,\"#fde0ef\"],[0.5,\"#f7f7f7\"],[0.6,\"#e6f5d0\"],[0.7,\"#b8e186\"],[0.8,\"#7fbc41\"],[0.9,\"#4d9221\"],[1,\"#276419\"]],\"sequential\":[[0.0,\"#0d0887\"],[0.1111111111111111,\"#46039f\"],[0.2222222222222222,\"#7201a8\"],[0.3333333333333333,\"#9c179e\"],[0.4444444444444444,\"#bd3786\"],[0.5555555555555556,\"#d8576b\"],[0.6666666666666666,\"#ed7953\"],[0.7777777777777778,\"#fb9f3a\"],[0.8888888888888888,\"#fdca26\"],[1.0,\"#f0f921\"]],\"sequentialminus\":[[0.0,\"#0d0887\"],[0.1111111111111111,\"#46039f\"],[0.2222222222222222,\"#7201a8\"],[0.3333333333333333,\"#9c179e\"],[0.4444444444444444,\"#bd3786\"],[0.5555555555555556,\"#d8576b\"],[0.6666666666666666,\"#ed7953\"],[0.7777777777777778,\"#fb9f3a\"],[0.8888888888888888,\"#fdca26\"],[1.0,\"#f0f921\"]]},\"colorway\":[\"#636efa\",\"#EF553B\",\"#00cc96\",\"#ab63fa\",\"#FFA15A\",\"#19d3f3\",\"#FF6692\",\"#B6E880\",\"#FF97FF\",\"#FECB52\"],\"font\":{\"color\":\"#2a3f5f\"},\"geo\":{\"bgcolor\":\"white\",\"lakecolor\":\"white\",\"landcolor\":\"#E5ECF6\",\"showlakes\":true,\"showland\":true,\"subunitcolor\":\"white\"},\"hoverlabel\":{\"align\":\"left\"},\"hovermode\":\"closest\",\"mapbox\":{\"style\":\"light\"},\"paper_bgcolor\":\"white\",\"plot_bgcolor\":\"#E5ECF6\",\"polar\":{\"angularaxis\":{\"gridcolor\":\"white\",\"linecolor\":\"white\",\"ticks\":\"\"},\"bgcolor\":\"#E5ECF6\",\"radialaxis\":{\"gridcolor\":\"white\",\"linecolor\":\"white\",\"ticks\":\"\"}},\"scene\":{\"xaxis\":{\"backgroundcolor\":\"#E5ECF6\",\"gridcolor\":\"white\",\"gridwidth\":2,\"linecolor\":\"white\",\"showbackground\":true,\"ticks\":\"\",\"zerolinecolor\":\"white\"},\"yaxis\":{\"backgroundcolor\":\"#E5ECF6\",\"gridcolor\":\"white\",\"gridwidth\":2,\"linecolor\":\"white\",\"showbackground\":true,\"ticks\":\"\",\"zerolinecolor\":\"white\"},\"zaxis\":{\"backgroundcolor\":\"#E5ECF6\",\"gridcolor\":\"white\",\"gridwidth\":2,\"linecolor\":\"white\",\"showbackground\":true,\"ticks\":\"\",\"zerolinecolor\":\"white\"}},\"shapedefaults\":{\"line\":{\"color\":\"#2a3f5f\"}},\"ternary\":{\"aaxis\":{\"gridcolor\":\"white\",\"linecolor\":\"white\",\"ticks\":\"\"},\"baxis\":{\"gridcolor\":\"white\",\"linecolor\":\"white\",\"ticks\":\"\"},\"bgcolor\":\"#E5ECF6\",\"caxis\":{\"gridcolor\":\"white\",\"linecolor\":\"white\",\"ticks\":\"\"}},\"title\":{\"x\":0.05},\"xaxis\":{\"automargin\":true,\"gridcolor\":\"white\",\"linecolor\":\"white\",\"ticks\":\"\",\"title\":{\"standoff\":15},\"zerolinecolor\":\"white\",\"zerolinewidth\":2},\"yaxis\":{\"automargin\":true,\"gridcolor\":\"white\",\"linecolor\":\"white\",\"ticks\":\"\",\"title\":{\"standoff\":15},\"zerolinecolor\":\"white\",\"zerolinewidth\":2}}},\"title\":{\"text\":\"\"}},                        {\"responsive\": true}                    ).then(function(){\n",
       "                            \n",
       "var gd = document.getElementById('3ea28748-c28c-4d8e-80ff-ec2884f636be');\n",
       "var x = new MutationObserver(function (mutations, observer) {{\n",
       "        var display = window.getComputedStyle(gd).display;\n",
       "        if (!display || display === 'none') {{\n",
       "            console.log([gd, 'removed!']);\n",
       "            Plotly.purge(gd);\n",
       "            observer.disconnect();\n",
       "        }}\n",
       "}});\n",
       "\n",
       "// Listen for the removal of the full notebook cells\n",
       "var notebookContainer = gd.closest('#notebook-container');\n",
       "if (notebookContainer) {{\n",
       "    x.observe(notebookContainer, {childList: true});\n",
       "}}\n",
       "\n",
       "// Listen for the clearing of the current output cell\n",
       "var outputEl = gd.closest('.output');\n",
       "if (outputEl) {{\n",
       "    x.observe(outputEl, {childList: true});\n",
       "}}\n",
       "\n",
       "                        })                };                });            </script>        </div>"
      ]
     },
     "metadata": {},
     "output_type": "display_data"
    },
    {
     "data": {
      "text/plain": [
       "{'data': [{'x': name\n",
       "   Bus 0      87.0\n",
       "   Bus 1      12.0\n",
       "   Bus 2       8.0\n",
       "   Bus 3      44.0\n",
       "   Bus 4     100.0\n",
       "   Bus 5      53.0\n",
       "   Bus 6      54.0\n",
       "   Bus 7      56.0\n",
       "   Bus 8      41.0\n",
       "   Bus 9      70.0\n",
       "   Bus 10     18.0\n",
       "   Bus 11     50.0\n",
       "   Bus 12     53.0\n",
       "   Bus 13     18.0\n",
       "   Bus 14     18.0\n",
       "   Name: x, dtype: float64,\n",
       "   'y': name\n",
       "   Bus 0      4.0\n",
       "   Bus 1     21.0\n",
       "   Bus 2     77.0\n",
       "   Bus 3     41.0\n",
       "   Bus 4     70.0\n",
       "   Bus 5     59.0\n",
       "   Bus 6     72.0\n",
       "   Bus 7     66.0\n",
       "   Bus 8     71.0\n",
       "   Bus 9     56.0\n",
       "   Bus 10    52.0\n",
       "   Bus 11     8.0\n",
       "   Bus 12    36.0\n",
       "   Bus 13    25.0\n",
       "   Bus 14    39.0\n",
       "   Name: y, dtype: float64,\n",
       "   'text': Index(['Bus Bus 0', 'Bus Bus 1', 'Bus Bus 2', 'Bus Bus 3', 'Bus Bus 4',\n",
       "          'Bus Bus 5', 'Bus Bus 6', 'Bus Bus 7', 'Bus Bus 8', 'Bus Bus 9',\n",
       "          'Bus Bus 10', 'Bus Bus 11', 'Bus Bus 12', 'Bus Bus 13', 'Bus Bus 14'],\n",
       "         dtype='object', name='name'),\n",
       "   'type': 'scatter',\n",
       "   'mode': 'markers',\n",
       "   'hoverinfo': 'text',\n",
       "   'opacity': 1,\n",
       "   'marker': {'color': 'cadetblue', 'size': 10}},\n",
       "  {'x': name\n",
       "   Linine 0     70.0\n",
       "   Linine 1     93.5\n",
       "   Linine 2     70.0\n",
       "   Linine 3     15.0\n",
       "   Linine 4     28.0\n",
       "   Linine 5     33.0\n",
       "   Linine 6     41.0\n",
       "   Linine 7     31.0\n",
       "   Linine 8     47.0\n",
       "   Linine 9     75.0\n",
       "   Linine 10    51.5\n",
       "   Linine 11    45.5\n",
       "   Linine 12    35.5\n",
       "   Linine 13    18.0\n",
       "   Linine 14    59.0\n",
       "   Linine 15    37.0\n",
       "   Linine 16    13.0\n",
       "   Linine 17    37.0\n",
       "   Linine 18    31.0\n",
       "   Linine 19    32.0\n",
       "   Linine 20    49.0\n",
       "   Linine 21    42.5\n",
       "   Linine 22    77.0\n",
       "   Linine 23    78.0\n",
       "   Linine 24    47.0\n",
       "   Linine 25    55.0\n",
       "   Linine 26    62.0\n",
       "   Linine 27    72.0\n",
       "   Linine 28    39.0\n",
       "   Linine 29    36.0\n",
       "   dtype: float64,\n",
       "   'y': name\n",
       "   Linine 0     20.0\n",
       "   Linine 1     37.0\n",
       "   Linine 2     31.5\n",
       "   Linine 3     36.5\n",
       "   Linine 4     31.0\n",
       "   Linine 5     46.5\n",
       "   Linine 6     38.5\n",
       "   Linine 7     46.5\n",
       "   Linine 8     24.5\n",
       "   Linine 9     39.0\n",
       "   Linine 10    33.5\n",
       "   Linine 11    39.5\n",
       "   Linine 12    30.5\n",
       "   Linine 13    32.0\n",
       "   Linine 14    47.5\n",
       "   Linine 15    45.5\n",
       "   Linine 16    58.0\n",
       "   Linine 17    52.5\n",
       "   Linine 18    74.5\n",
       "   Linine 19    71.5\n",
       "   Linine 20    56.5\n",
       "   Linine 21    56.0\n",
       "   Linine 22    71.0\n",
       "   Linine 23    68.0\n",
       "   Linine 24    65.0\n",
       "   Linine 25    69.0\n",
       "   Linine 26    64.0\n",
       "   Linine 27    55.5\n",
       "   Linine 28    66.5\n",
       "   Linine 29    55.5\n",
       "   dtype: float64,\n",
       "   'text': Index(['Line Linine 0', 'Line Linine 1', 'Line Linine 2', 'Line Linine 3',\n",
       "          'Line Linine 4', 'Line Linine 5', 'Line Linine 6', 'Line Linine 7',\n",
       "          'Line Linine 8', 'Line Linine 9', 'Line Linine 10', 'Line Linine 11',\n",
       "          'Line Linine 12', 'Line Linine 13', 'Line Linine 14', 'Line Linine 15',\n",
       "          'Line Linine 16', 'Line Linine 17', 'Line Linine 18', 'Line Linine 19',\n",
       "          'Line Linine 20', 'Line Linine 21', 'Line Linine 22', 'Line Linine 23',\n",
       "          'Line Linine 24', 'Line Linine 25', 'Line Linine 26', 'Line Linine 27',\n",
       "          'Line Linine 28', 'Line Linine 29'],\n",
       "         dtype='object', name='name'),\n",
       "   'type': 'scatter',\n",
       "   'mode': 'markers',\n",
       "   'hoverinfo': 'text',\n",
       "   'marker': {'opacity': 0.0}}],\n",
       " 'layout': {'title': '',\n",
       "  'hovermode': 'closest',\n",
       "  'showlegend': False,\n",
       "  'shapes': [{'type': 'line',\n",
       "    'opacity': 0.8,\n",
       "    'x0': 87.0,\n",
       "    'y0': 4.0,\n",
       "    'x1': 53.0,\n",
       "    'y1': 36.0,\n",
       "    'line': {'color': 'rosybrown', 'width': 3}},\n",
       "   {'type': 'line',\n",
       "    'opacity': 0.8,\n",
       "    'x0': 87.0,\n",
       "    'y0': 4.0,\n",
       "    'x1': 100.0,\n",
       "    'y1': 70.0,\n",
       "    'line': {'color': 'rosybrown', 'width': 3}},\n",
       "   {'type': 'line',\n",
       "    'opacity': 0.8,\n",
       "    'x0': 87.0,\n",
       "    'y0': 4.0,\n",
       "    'x1': 53.0,\n",
       "    'y1': 59.0,\n",
       "    'line': {'color': 'rosybrown', 'width': 3}},\n",
       "   {'type': 'line',\n",
       "    'opacity': 0.8,\n",
       "    'x0': 12.0,\n",
       "    'y0': 21.0,\n",
       "    'x1': 18.0,\n",
       "    'y1': 52.0,\n",
       "    'line': {'color': 'rosybrown', 'width': 3}},\n",
       "   {'type': 'line',\n",
       "    'opacity': 0.8,\n",
       "    'x0': 12.0,\n",
       "    'y0': 21.0,\n",
       "    'x1': 44.0,\n",
       "    'y1': 41.0,\n",
       "    'line': {'color': 'rosybrown', 'width': 3}},\n",
       "   {'type': 'line',\n",
       "    'opacity': 0.8,\n",
       "    'x0': 12.0,\n",
       "    'y0': 21.0,\n",
       "    'x1': 54.0,\n",
       "    'y1': 72.0,\n",
       "    'line': {'color': 'rosybrown', 'width': 3}},\n",
       "   {'type': 'line',\n",
       "    'opacity': 0.8,\n",
       "    'x0': 12.0,\n",
       "    'y0': 21.0,\n",
       "    'x1': 70.0,\n",
       "    'y1': 56.0,\n",
       "    'line': {'color': 'rosybrown', 'width': 3}},\n",
       "   {'type': 'line',\n",
       "    'opacity': 0.8,\n",
       "    'x0': 18.0,\n",
       "    'y0': 52.0,\n",
       "    'x1': 44.0,\n",
       "    'y1': 41.0,\n",
       "    'line': {'color': 'rosybrown', 'width': 3}},\n",
       "   {'type': 'line',\n",
       "    'opacity': 0.8,\n",
       "    'x0': 50.0,\n",
       "    'y0': 8.0,\n",
       "    'x1': 44.0,\n",
       "    'y1': 41.0,\n",
       "    'line': {'color': 'rosybrown', 'width': 3}},\n",
       "   {'type': 'line',\n",
       "    'opacity': 0.8,\n",
       "    'x0': 50.0,\n",
       "    'y0': 8.0,\n",
       "    'x1': 100.0,\n",
       "    'y1': 70.0,\n",
       "    'line': {'color': 'rosybrown', 'width': 3}},\n",
       "   {'type': 'line',\n",
       "    'opacity': 0.8,\n",
       "    'x0': 50.0,\n",
       "    'y0': 8.0,\n",
       "    'x1': 53.0,\n",
       "    'y1': 59.0,\n",
       "    'line': {'color': 'rosybrown', 'width': 3}},\n",
       "   {'type': 'line',\n",
       "    'opacity': 0.8,\n",
       "    'x0': 50.0,\n",
       "    'y0': 8.0,\n",
       "    'x1': 41.0,\n",
       "    'y1': 71.0,\n",
       "    'line': {'color': 'rosybrown', 'width': 3}},\n",
       "   {'type': 'line',\n",
       "    'opacity': 0.8,\n",
       "    'x0': 53.0,\n",
       "    'y0': 36.0,\n",
       "    'x1': 18.0,\n",
       "    'y1': 25.0,\n",
       "    'line': {'color': 'rosybrown', 'width': 3}},\n",
       "   {'type': 'line',\n",
       "    'opacity': 0.8,\n",
       "    'x0': 18.0,\n",
       "    'y0': 25.0,\n",
       "    'x1': 18.0,\n",
       "    'y1': 39.0,\n",
       "    'line': {'color': 'rosybrown', 'width': 3}},\n",
       "   {'type': 'line',\n",
       "    'opacity': 0.8,\n",
       "    'x0': 18.0,\n",
       "    'y0': 25.0,\n",
       "    'x1': 100.0,\n",
       "    'y1': 70.0,\n",
       "    'line': {'color': 'rosybrown', 'width': 3}},\n",
       "   {'type': 'line',\n",
       "    'opacity': 0.8,\n",
       "    'x0': 18.0,\n",
       "    'y0': 25.0,\n",
       "    'x1': 56.0,\n",
       "    'y1': 66.0,\n",
       "    'line': {'color': 'rosybrown', 'width': 3}},\n",
       "   {'type': 'line',\n",
       "    'opacity': 0.8,\n",
       "    'x0': 18.0,\n",
       "    'y0': 39.0,\n",
       "    'x1': 8.0,\n",
       "    'y1': 77.0,\n",
       "    'line': {'color': 'rosybrown', 'width': 3}},\n",
       "   {'type': 'line',\n",
       "    'opacity': 0.8,\n",
       "    'x0': 18.0,\n",
       "    'y0': 39.0,\n",
       "    'x1': 56.0,\n",
       "    'y1': 66.0,\n",
       "    'line': {'color': 'rosybrown', 'width': 3}},\n",
       "   {'type': 'line',\n",
       "    'opacity': 0.8,\n",
       "    'x0': 8.0,\n",
       "    'y0': 77.0,\n",
       "    'x1': 54.0,\n",
       "    'y1': 72.0,\n",
       "    'line': {'color': 'rosybrown', 'width': 3}},\n",
       "   {'type': 'line',\n",
       "    'opacity': 0.8,\n",
       "    'x0': 8.0,\n",
       "    'y0': 77.0,\n",
       "    'x1': 56.0,\n",
       "    'y1': 66.0,\n",
       "    'line': {'color': 'rosybrown', 'width': 3}},\n",
       "   {'type': 'line',\n",
       "    'opacity': 0.8,\n",
       "    'x0': 44.0,\n",
       "    'y0': 41.0,\n",
       "    'x1': 54.0,\n",
       "    'y1': 72.0,\n",
       "    'line': {'color': 'rosybrown', 'width': 3}},\n",
       "   {'type': 'line',\n",
       "    'opacity': 0.8,\n",
       "    'x0': 44.0,\n",
       "    'y0': 41.0,\n",
       "    'x1': 41.0,\n",
       "    'y1': 71.0,\n",
       "    'line': {'color': 'rosybrown', 'width': 3}},\n",
       "   {'type': 'line',\n",
       "    'opacity': 0.8,\n",
       "    'x0': 100.0,\n",
       "    'y0': 70.0,\n",
       "    'x1': 54.0,\n",
       "    'y1': 72.0,\n",
       "    'line': {'color': 'rosybrown', 'width': 3}},\n",
       "   {'type': 'line',\n",
       "    'opacity': 0.8,\n",
       "    'x0': 100.0,\n",
       "    'y0': 70.0,\n",
       "    'x1': 56.0,\n",
       "    'y1': 66.0,\n",
       "    'line': {'color': 'rosybrown', 'width': 3}},\n",
       "   {'type': 'line',\n",
       "    'opacity': 0.8,\n",
       "    'x0': 53.0,\n",
       "    'y0': 59.0,\n",
       "    'x1': 41.0,\n",
       "    'y1': 71.0,\n",
       "    'line': {'color': 'rosybrown', 'width': 3}},\n",
       "   {'type': 'line',\n",
       "    'opacity': 0.8,\n",
       "    'x0': 54.0,\n",
       "    'y0': 72.0,\n",
       "    'x1': 56.0,\n",
       "    'y1': 66.0,\n",
       "    'line': {'color': 'rosybrown', 'width': 3}},\n",
       "   {'type': 'line',\n",
       "    'opacity': 0.8,\n",
       "    'x0': 54.0,\n",
       "    'y0': 72.0,\n",
       "    'x1': 70.0,\n",
       "    'y1': 56.0,\n",
       "    'line': {'color': 'rosybrown', 'width': 3}},\n",
       "   {'type': 'line',\n",
       "    'opacity': 0.8,\n",
       "    'x0': 100.0,\n",
       "    'y0': 70.0,\n",
       "    'x1': 44.0,\n",
       "    'y1': 41.0,\n",
       "    'line': {'color': 'rosybrown', 'width': 3}},\n",
       "   {'type': 'line',\n",
       "    'opacity': 0.8,\n",
       "    'x0': 70.0,\n",
       "    'y0': 56.0,\n",
       "    'x1': 8.0,\n",
       "    'y1': 77.0,\n",
       "    'line': {'color': 'rosybrown', 'width': 3}},\n",
       "   {'type': 'line',\n",
       "    'opacity': 0.8,\n",
       "    'x0': 18.0,\n",
       "    'y0': 39.0,\n",
       "    'x1': 54.0,\n",
       "    'y1': 72.0,\n",
       "    'line': {'color': 'rosybrown', 'width': 3}}]}}"
      ]
     },
     "execution_count": 36,
     "metadata": {},
     "output_type": "execute_result"
    }
   ],
   "source": [
    "network.iplot()"
   ]
  },
  {
   "cell_type": "code",
   "execution_count": null,
   "metadata": {},
   "outputs": [],
   "source": [
    "random.seed(69)\n",
    "network = pypsa.Network()\n",
    "for i in range(25):\n",
    "    network.add(\"Bus\",\"Bus {}\".format(i))\n",
    "network.buses.at[network.buses.index[0], 'x'] = 0\n",
    "network.buses.at[network.buses.index[0], 'y'] = 5\n",
    "\n",
    "network.buses.at[network.buses.index[1], 'x'] = 6\n",
    "network.buses.at[network.buses.index[1], 'y'] = 5\n",
    "\n",
    "network.buses.at[network.buses.index[2], 'x'] = 9\n",
    "network.buses.at[network.buses.index[2], 'y'] = 5\n",
    "\n",
    "network.buses.at[network.buses.index[3], 'x'] = 3\n",
    "network.buses.at[network.buses.index[3], 'y'] = 2\n",
    "\n",
    "network.buses.at[network.buses.index[4], 'x'] = 0\n",
    "network.buses.at[network.buses.index[4], 'y'] = 0\n",
    "\n",
    "network.buses.at[network.buses.index[5], 'x'] = 3\n",
    "network.buses.at[network.buses.index[5], 'y'] = 0\n",
    "\n",
    "network.buses.at[network.buses.index[6], 'x'] = 6\n",
    "network.buses.at[network.buses.index[6], 'y'] = 0\n",
    "\n",
    "network.buses.at[network.buses.index[7], 'x'] = 9\n",
    "network.buses.at[network.buses.index[7], 'y'] = 0\n",
    "\n",
    "edges = [(0,1),(0,3),(0,4),(0,5),(1,3),(1,7),(1,2),(2,6),(2,7),(3,4),(3,5),(3,6),(5,6),(6,7)]\n",
    "for i in range(len(edges)):\n",
    "    network.add(\"Line\",\"Linine {}\".format(i),\n",
    "                bus0=\"Bus {}\".format(edges[i][0]),\n",
    "                bus1=\"Bus {}\".format(edges[i][1]),\n",
    "                x=0.0001,\n",
    "                s_nom=60)\n",
    "\n",
    "#add a generator at bus 2\n",
    "network.add(\"Generator\",\"Gen 2\",\n",
    "            bus=\"Bus 2\",\n",
    "            p_nom=300,\n",
    "            marginal_cost=random.randint(25,75))\n",
    "#add a generator at bus 3\n",
    "network.add(\"Generator\",\"Gen 3\",\n",
    "            bus=\"Bus 3\",\n",
    "            p_nom=300,\n",
    "            marginal_cost=random.randint(25,75))\n",
    "#add a generator at bus 4\n",
    "network.add(\"Generator\",\"Gen 4\",\n",
    "            bus=\"Bus 4\",\n",
    "            p_nom=300,\n",
    "            marginal_cost=random.randint(25,75))\n",
    "\n",
    "for i in [0,1,5,6,7]:\n",
    "    network.add(\"Load\",f\"Load {i}\",\n",
    "                bus=f\"Bus {i}\",\n",
    "                p_set=random.randint(25,125))\n",
    "\n",
    "network.export_to_netcdf(\"lopf_grid.nc\")"
   ]
  }
 ],
 "metadata": {
  "kernelspec": {
   "display_name": "Python 3",
   "language": "python",
   "name": "python3"
  },
  "language_info": {
   "codemirror_mode": {
    "name": "ipython",
    "version": 3
   },
   "file_extension": ".py",
   "mimetype": "text/x-python",
   "name": "python",
   "nbconvert_exporter": "python",
   "pygments_lexer": "ipython3",
   "version": "3.7.6"
  }
 },
 "nbformat": 4,
 "nbformat_minor": 4
}
