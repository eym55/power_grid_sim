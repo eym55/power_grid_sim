{
 "cells": [
  {
   "cell_type": "code",
   "execution_count": 1,
   "id": "ce198417",
   "metadata": {},
   "outputs": [
    {
     "name": "stderr",
     "output_type": "stream",
     "text": [
      "INFO:pypsa.io:Imported network lopf_grid.nc has buses, generators, lines, loads\n"
     ]
    }
   ],
   "source": [
    "import pypsa, os\n",
    "import numpy as np\n",
    "\n",
    "network = pypsa.Network('lopf_grid.nc')"
   ]
  },
  {
   "cell_type": "code",
   "execution_count": 2,
   "id": "674c0f4a",
   "metadata": {
    "scrolled": true
   },
   "outputs": [
    {
     "name": "stderr",
     "output_type": "stream",
     "text": [
      "INFO:numexpr.utils:NumExpr defaulting to 8 threads.\n"
     ]
    },
    {
     "data": {
      "text/plain": [
       "name\n",
       "Linine 0     0.122222\n",
       "Linine 1     0.444444\n",
       "Linine 2     1.000000\n",
       "Linine 3     0.555556\n",
       "Linine 4     0.566667\n",
       "Linine 5     0.381944\n",
       "Linine 6     0.243056\n",
       "Linine 7     0.531944\n",
       "Linine 8     0.625000\n",
       "Linine 9     0.555556\n",
       "Linine 10    1.000000\n",
       "Linine 11    0.855556\n",
       "Linine 12    0.144444\n",
       "Linine 13    0.093056\n",
       "Name: now, dtype: float64"
      ]
     },
     "execution_count": 2,
     "metadata": {},
     "output_type": "execute_result"
    }
   ],
   "source": [
    "now = network.snapshots[0]\n",
    "\n",
    "vals = abs(network.lines_t.p0)/network.lines.s_nom\n",
    "vals.loc[\"now\"]"
   ]
  },
  {
   "cell_type": "code",
   "execution_count": 3,
   "id": "fc5b44d0",
   "metadata": {},
   "outputs": [
    {
     "data": {
      "text/plain": [
       "name\n",
       "Gen 2     84.000000\n",
       "Gen 3    138.666667\n",
       "Gen 4     93.333333\n",
       "Name: now, dtype: float64"
      ]
     },
     "execution_count": 3,
     "metadata": {},
     "output_type": "execute_result"
    }
   ],
   "source": [
    "network.generators_t.p.loc[now]"
   ]
  },
  {
   "cell_type": "code",
   "execution_count": 4,
   "id": "cf295ca0",
   "metadata": {},
   "outputs": [
    {
     "name": "stderr",
     "output_type": "stream",
     "text": [
      "INFO:pypsa.opf:Performed preliminary steps\n",
      "INFO:pypsa.opf:Building pyomo model using `kirchhoff` formulation\n",
      "INFO:pypsa.opf:Solving model using glpk\n",
      "INFO:pypsa.opf:Optimization successful\n"
     ]
    },
    {
     "name": "stdout",
     "output_type": "stream",
     "text": [
      "# ==========================================================\n",
      "# = Solver Results                                         =\n",
      "# ==========================================================\n",
      "# ----------------------------------------------------------\n",
      "#   Problem Information\n",
      "# ----------------------------------------------------------\n",
      "Problem: \n",
      "- Name: unknown\n",
      "  Lower bound: 12349.3333333333\n",
      "  Upper bound: 12349.3333333333\n",
      "  Number of objectives: 1\n",
      "  Number of constraints: 44\n",
      "  Number of variables: 18\n",
      "  Number of nonzeros: 85\n",
      "  Sense: minimize\n",
      "# ----------------------------------------------------------\n",
      "#   Solver Information\n",
      "# ----------------------------------------------------------\n",
      "Solver: \n",
      "- Status: ok\n",
      "  Termination condition: optimal\n",
      "  Statistics: \n",
      "    Branch and bound: \n",
      "      Number of bounded subproblems: 0\n",
      "      Number of created subproblems: 0\n",
      "  Error rc: 0\n",
      "  Time: 0.020054101943969727\n",
      "# ----------------------------------------------------------\n",
      "#   Solution Information\n",
      "# ----------------------------------------------------------\n",
      "Solution: \n",
      "- number of solutions: 0\n",
      "  number of solutions displayed: 0\n"
     ]
    },
    {
     "data": {
      "text/plain": [
       "<TerminationCondition.optimal: 'optimal'>"
      ]
     },
     "execution_count": 4,
     "metadata": {},
     "output_type": "execute_result"
    }
   ],
   "source": [
    "to_remove = network.lines.index[12:]\n",
    "\n",
    "result = network.lopf()\n",
    "result[1]"
   ]
  },
  {
   "cell_type": "code",
   "execution_count": 5,
   "id": "9707f06f",
   "metadata": {},
   "outputs": [],
   "source": [
    "#network.iplot()"
   ]
  },
  {
   "cell_type": "code",
   "execution_count": 6,
   "id": "9c3824f3",
   "metadata": {
    "scrolled": true
   },
   "outputs": [
    {
     "name": "stderr",
     "output_type": "stream",
     "text": [
      "INFO:pypsa.opf:Performed preliminary steps\n",
      "INFO:pypsa.opf:Building pyomo model using `kirchhoff` formulation\n",
      "INFO:pypsa.opf:Solving model using glpk\n",
      "INFO:pypsa.opf:Optimization successful\n"
     ]
    },
    {
     "name": "stdout",
     "output_type": "stream",
     "text": [
      "# ==========================================================\n",
      "# = Solver Results                                         =\n",
      "# ==========================================================\n",
      "# ----------------------------------------------------------\n",
      "#   Problem Information\n",
      "# ----------------------------------------------------------\n",
      "Problem: \n",
      "- Name: unknown\n",
      "  Lower bound: 15260.8333333333\n",
      "  Upper bound: 15260.8333333333\n",
      "  Number of objectives: 1\n",
      "  Number of constraints: 38\n",
      "  Number of variables: 16\n",
      "  Number of nonzeros: 68\n",
      "  Sense: minimize\n",
      "# ----------------------------------------------------------\n",
      "#   Solver Information\n",
      "# ----------------------------------------------------------\n",
      "Solver: \n",
      "- Status: ok\n",
      "  Termination condition: optimal\n",
      "  Statistics: \n",
      "    Branch and bound: \n",
      "      Number of bounded subproblems: 0\n",
      "      Number of created subproblems: 0\n",
      "  Error rc: 0\n",
      "  Time: 0.01661205291748047\n",
      "# ----------------------------------------------------------\n",
      "#   Solution Information\n",
      "# ----------------------------------------------------------\n",
      "Solution: \n",
      "- number of solutions: 0\n",
      "  number of solutions displayed: 0\n"
     ]
    },
    {
     "data": {
      "text/plain": [
       "name\n",
       "Gen 2    154.166667\n",
       "Gen 3     59.833333\n",
       "Gen 4    102.000000\n",
       "Name: now, dtype: float64"
      ]
     },
     "execution_count": 6,
     "metadata": {},
     "output_type": "execute_result"
    }
   ],
   "source": [
    "for line in to_remove:\n",
    "    network.remove(\"Line\",line)\n",
    "\n",
    "network.lopf()\n",
    "\n",
    "network.generators_t.p.loc[now]"
   ]
  },
  {
   "cell_type": "code",
   "execution_count": 7,
   "id": "b19ab49a",
   "metadata": {},
   "outputs": [
    {
     "data": {
      "text/plain": [
       "name\n",
       "Linine 0     0.166667\n",
       "Linine 1     0.300000\n",
       "Linine 2     1.000000\n",
       "Linine 3     0.700000\n",
       "Linine 4     0.133333\n",
       "Linine 5     0.172222\n",
       "Linine 6     0.755556\n",
       "Linine 7     0.886111\n",
       "Linine 8     0.927778\n",
       "Linine 9     0.700000\n",
       "Linine 10    1.000000\n",
       "Linine 11    0.263889\n",
       "Name: now, dtype: float64"
      ]
     },
     "execution_count": 7,
     "metadata": {},
     "output_type": "execute_result"
    }
   ],
   "source": [
    "vals = abs(network.lines_t.p0)/network.lines.s_nom\n",
    "vals.loc[\"now\"]"
   ]
  },
  {
   "cell_type": "code",
   "execution_count": 8,
   "id": "c47d8bed",
   "metadata": {},
   "outputs": [],
   "source": [
    "to_remove = network.lines.index[4:5]\n",
    "\n",
    "for line in to_remove:\n",
    "    network.remove(\"Line\",line)\n",
    "    "
   ]
  },
  {
   "cell_type": "code",
   "execution_count": 9,
   "id": "beeaac72",
   "metadata": {},
   "outputs": [],
   "source": [
    "# print(network.loads['p_set'].sum(), \"\\n\")\n",
    "\n",
    "# sum = 0\n",
    "# for gen in network.generators_t.p.loc[\"now\"]:\n",
    "#     sum += gen\n",
    "\n",
    "# print(sum)\n",
    "\n",
    "# vals = abs(network.lines_t.p0)/network.lines.s_nom\n",
    "# vals.loc[\"now\"].sum()"
   ]
  },
  {
   "cell_type": "code",
   "execution_count": 10,
   "id": "14db170a",
   "metadata": {},
   "outputs": [
    {
     "name": "stderr",
     "output_type": "stream",
     "text": [
      "INFO:pypsa.opf:Performed preliminary steps\n",
      "INFO:pypsa.opf:Building pyomo model using `kirchhoff` formulation\n",
      "INFO:pypsa.opf:Solving model using glpk\n",
      "INFO:pypsa.opf:Optimization successful\n"
     ]
    },
    {
     "name": "stdout",
     "output_type": "stream",
     "text": [
      "# ==========================================================\n",
      "# = Solver Results                                         =\n",
      "# ==========================================================\n",
      "# ----------------------------------------------------------\n",
      "#   Problem Information\n",
      "# ----------------------------------------------------------\n",
      "Problem: \n",
      "- Name: unknown\n",
      "  Lower bound: 15698.1666666667\n",
      "  Upper bound: 15698.1666666667\n",
      "  Number of objectives: 1\n",
      "  Number of constraints: 35\n",
      "  Number of variables: 15\n",
      "  Number of nonzeros: 62\n",
      "  Sense: minimize\n",
      "# ----------------------------------------------------------\n",
      "#   Solver Information\n",
      "# ----------------------------------------------------------\n",
      "Solver: \n",
      "- Status: ok\n",
      "  Termination condition: optimal\n",
      "  Statistics: \n",
      "    Branch and bound: \n",
      "      Number of bounded subproblems: 0\n",
      "      Number of created subproblems: 0\n",
      "  Error rc: 0\n",
      "  Time: 0.014692068099975586\n",
      "# ----------------------------------------------------------\n",
      "#   Solution Information\n",
      "# ----------------------------------------------------------\n",
      "Solution: \n",
      "- number of solutions: 0\n",
      "  number of solutions displayed: 0\n"
     ]
    },
    {
     "data": {
      "text/plain": [
       "(<SolverStatus.ok: 'ok'>, <TerminationCondition.optimal: 'optimal'>)"
      ]
     },
     "execution_count": 10,
     "metadata": {},
     "output_type": "execute_result"
    }
   ],
   "source": [
    "network.lopf()"
   ]
  },
  {
   "cell_type": "code",
   "execution_count": 12,
   "id": "47035fcd",
   "metadata": {},
   "outputs": [
    {
     "data": {
      "text/plain": [
       "name\n",
       "Linine 0     0.166667\n",
       "Linine 1     0.300000\n",
       "Linine 2     1.000000\n",
       "Linine 3     0.700000\n",
       "Linine 5     0.127778\n",
       "Linine 6     0.844444\n",
       "Linine 7     0.930556\n",
       "Linine 8     0.972222\n",
       "Linine 9     0.700000\n",
       "Linine 10    1.000000\n",
       "Linine 11    0.219444\n",
       "Name: now, dtype: float64"
      ]
     },
     "execution_count": 12,
     "metadata": {},
     "output_type": "execute_result"
    }
   ],
   "source": [
    "vals = abs(network.lines_t.p0)/network.lines.s_nom\n",
    "vals.loc[\"now\"]"
   ]
  },
  {
   "cell_type": "code",
   "execution_count": null,
   "id": "f3627331",
   "metadata": {},
   "outputs": [],
   "source": []
  }
 ],
 "metadata": {
  "kernelspec": {
   "display_name": "Python 3 (ipykernel)",
   "language": "python",
   "name": "python3"
  },
  "language_info": {
   "codemirror_mode": {
    "name": "ipython",
    "version": 3
   },
   "file_extension": ".py",
   "mimetype": "text/x-python",
   "name": "python",
   "nbconvert_exporter": "python",
   "pygments_lexer": "ipython3",
   "version": "3.7.2"
  }
 },
 "nbformat": 4,
 "nbformat_minor": 5
}
