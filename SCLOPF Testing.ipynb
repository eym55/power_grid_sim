{
 "cells": [
  {
   "cell_type": "code",
   "execution_count": 1,
   "id": "43eb949f",
   "metadata": {},
   "outputs": [
    {
     "name": "stderr",
     "output_type": "stream",
     "text": [
      "INFO:pypsa.io:Imported network lopf_grid.nc has buses, generators, lines, loads\n"
     ]
    }
   ],
   "source": [
    "import pypsa, os\n",
    "import numpy as np\n",
    "\n",
    "network = pypsa.Network('lopf_grid.nc')"
   ]
  },
  {
   "cell_type": "code",
   "execution_count": 2,
   "id": "0509bea5",
   "metadata": {},
   "outputs": [
    {
     "name": "stderr",
     "output_type": "stream",
     "text": [
      "INFO:numexpr.utils:NumExpr defaulting to 8 threads.\n"
     ]
    },
    {
     "data": {
      "text/plain": [
       "name\n",
       "Linine 0     0.122222\n",
       "Linine 1     0.444444\n",
       "Linine 2     1.000000\n",
       "Linine 3     0.555556\n",
       "Linine 4     0.566667\n",
       "Linine 5     0.381944\n",
       "Linine 6     0.243056\n",
       "Linine 7     0.531944\n",
       "Linine 8     0.625000\n",
       "Linine 9     0.555556\n",
       "Linine 10    1.000000\n",
       "Linine 11    0.855556\n",
       "Linine 12    0.144444\n",
       "Linine 13    0.093056\n",
       "Name: now, dtype: float64"
      ]
     },
     "execution_count": 2,
     "metadata": {},
     "output_type": "execute_result"
    }
   ],
   "source": [
    "vals = abs(network.lines_t.p0)/network.lines.s_nom\n",
    "vals.loc[\"now\"]"
   ]
  },
  {
   "cell_type": "code",
   "execution_count": 3,
   "id": "e57f42b0",
   "metadata": {},
   "outputs": [],
   "source": [
    "to_remove = network.lines.index[12:]\n",
    "#OPTIMAL"
   ]
  },
  {
   "cell_type": "code",
   "execution_count": 4,
   "id": "ee87f244",
   "metadata": {},
   "outputs": [
    {
     "data": {
      "text/plain": [
       "name\n",
       "Gen 2     84.000000\n",
       "Gen 3    138.666667\n",
       "Gen 4     93.333333\n",
       "Name: now, dtype: float64"
      ]
     },
     "execution_count": 4,
     "metadata": {},
     "output_type": "execute_result"
    }
   ],
   "source": [
    "now = network.snapshots[0]\n",
    "network.generators_t.p.loc[now]"
   ]
  },
  {
   "cell_type": "code",
   "execution_count": 5,
   "id": "506a5b0c",
   "metadata": {},
   "outputs": [
    {
     "name": "stderr",
     "output_type": "stream",
     "text": [
      "INFO:pypsa.opf:Building pyomo model using `kirchhoff` formulation\n",
      "/Library/Frameworks/Python.framework/Versions/3.7/lib/python3.7/site-packages/scipy/sparse/linalg/dsolve/linsolve.py:318: SparseEfficiencyWarning:\n",
      "\n",
      "splu requires CSC matrix format\n",
      "\n",
      "WARNING:pypsa.contingency:No type given for Linine 12, assuming it is a line\n",
      "WARNING:pypsa.contingency:No type given for Linine 13, assuming it is a line\n",
      "INFO:pypsa.opf:Solving model using cbc\n",
      "INFO:pypsa.opf:Optimization successful\n"
     ]
    },
    {
     "name": "stdout",
     "output_type": "stream",
     "text": [
      "# ==========================================================\n",
      "# = Solver Results                                         =\n",
      "# ==========================================================\n",
      "# ----------------------------------------------------------\n",
      "#   Problem Information\n",
      "# ----------------------------------------------------------\n",
      "Problem: \n",
      "- Name: unknown\n",
      "  Lower bound: 15226.66667\n",
      "  Upper bound: 15226.66667\n",
      "  Number of objectives: 1\n",
      "  Number of constraints: 100\n",
      "  Number of variables: 18\n",
      "  Number of nonzeros: 3\n",
      "  Sense: minimize\n",
      "# ----------------------------------------------------------\n",
      "#   Solver Information\n",
      "# ----------------------------------------------------------\n",
      "Solver: \n",
      "- Status: ok\n",
      "  User time: -1.0\n",
      "  System time: 0.0\n",
      "  Wallclock time: 0.01\n",
      "  Termination condition: optimal\n",
      "  Termination message: Model was solved to optimality (subject to tolerances), and an optimal solution is available.\n",
      "  Statistics: \n",
      "    Branch and bound: \n",
      "      Number of bounded subproblems: None\n",
      "      Number of created subproblems: None\n",
      "    Black box: \n",
      "      Number of iterations: 19\n",
      "  Error rc: 0\n",
      "  Time: 0.07241535186767578\n",
      "# ----------------------------------------------------------\n",
      "#   Solution Information\n",
      "# ----------------------------------------------------------\n",
      "Solution: \n",
      "- number of solutions: 0\n",
      "  number of solutions displayed: 0\n"
     ]
    }
   ],
   "source": [
    "network.sclopf(now,branch_outages=to_remove, solver_name='cbc')"
   ]
  },
  {
   "cell_type": "code",
   "execution_count": 6,
   "id": "5b91bf0d",
   "metadata": {},
   "outputs": [
    {
     "data": {
      "text/plain": [
       "name\n",
       "Linine 0     0.075576\n",
       "Linine 1     0.260961\n",
       "Linine 2     0.980480\n",
       "Linine 3     0.550350\n",
       "Linine 4     0.185385\n",
       "Linine 5     0.236849\n",
       "Linine 6     0.677040\n",
       "Linine 7     0.964627\n",
       "Linine 8     0.913889\n",
       "Linine 9     0.719520\n",
       "Linine 10    0.811311\n",
       "Linine 11    0.472973\n",
       "Linine 12    0.338338\n",
       "Linine 13    0.050738\n",
       "Name: now, dtype: float64"
      ]
     },
     "execution_count": 6,
     "metadata": {},
     "output_type": "execute_result"
    }
   ],
   "source": [
    "#For the PF, set the P to the optimised P.\n",
    "\n",
    "network.generators_t.p_set = network.generators_t.p_set.reindex(columns=network.generators.index)\n",
    "network.generators_t.p_set.loc[now] = network.generators_t.p.loc[now]\n",
    "\n",
    "vals = abs(network.lines_t.p0)/network.lines.s_nom\n",
    "vals.loc[\"now\"] "
   ]
  },
  {
   "cell_type": "code",
   "execution_count": 7,
   "id": "ece8dc3f",
   "metadata": {
    "scrolled": true
   },
   "outputs": [
    {
     "data": {
      "text/plain": [
       "name\n",
       "Gen 2    153.333330\n",
       "Gen 3     60.666667\n",
       "Gen 4    102.000000\n",
       "Name: now, dtype: float64"
      ]
     },
     "execution_count": 7,
     "metadata": {},
     "output_type": "execute_result"
    }
   ],
   "source": [
    "for line in to_remove:\n",
    "     network.remove(\"Line\",line)\n",
    "network.generators_t.p.loc[now]\n",
    "\n",
    "#12, 13 gone "
   ]
  },
  {
   "cell_type": "code",
   "execution_count": 8,
   "id": "829a61fc",
   "metadata": {},
   "outputs": [],
   "source": [
    "# print(network.loads['p_set'].sum(), \"\\n\")\n",
    "\n",
    "# sum = 0\n",
    "# for gen in network.generators_t.p.loc[\"now\"]:\n",
    "#     sum += gen\n",
    "\n",
    "\n",
    "# vals = abs(network.lines_t.p0)/network.lines.s_nom\n",
    "# vals.loc[\"now\"].sum()\n"
   ]
  },
  {
   "cell_type": "code",
   "execution_count": 9,
   "id": "9a5758c4",
   "metadata": {},
   "outputs": [
    {
     "name": "stderr",
     "output_type": "stream",
     "text": [
      "INFO:pypsa.opf:Building pyomo model using `kirchhoff` formulation\n",
      "/Library/Frameworks/Python.framework/Versions/3.7/lib/python3.7/site-packages/scipy/sparse/linalg/dsolve/linsolve.py:318: SparseEfficiencyWarning:\n",
      "\n",
      "splu requires CSC matrix format\n",
      "\n",
      "WARNING:pypsa.contingency:No type given for Linine 4, assuming it is a line\n",
      "INFO:pypsa.opf:Solving model using cbc\n",
      "INFO:pypsa.opf:Optimization successful\n"
     ]
    },
    {
     "name": "stdout",
     "output_type": "stream",
     "text": [
      "# ==========================================================\n",
      "# = Solver Results                                         =\n",
      "# ==========================================================\n",
      "# ----------------------------------------------------------\n",
      "#   Problem Information\n",
      "# ----------------------------------------------------------\n",
      "Problem: \n",
      "- Name: unknown\n",
      "  Lower bound: 15698.16667\n",
      "  Upper bound: 15698.16667\n",
      "  Number of objectives: 1\n",
      "  Number of constraints: 62\n",
      "  Number of variables: 16\n",
      "  Number of nonzeros: 3\n",
      "  Sense: minimize\n",
      "# ----------------------------------------------------------\n",
      "#   Solver Information\n",
      "# ----------------------------------------------------------\n",
      "Solver: \n",
      "- Status: ok\n",
      "  User time: -1.0\n",
      "  System time: 0.0\n",
      "  Wallclock time: 0.0\n",
      "  Termination condition: optimal\n",
      "  Termination message: Model was solved to optimality (subject to tolerances), and an optimal solution is available.\n",
      "  Statistics: \n",
      "    Branch and bound: \n",
      "      Number of bounded subproblems: None\n",
      "      Number of created subproblems: None\n",
      "    Black box: \n",
      "      Number of iterations: 11\n",
      "  Error rc: 0\n",
      "  Time: 0.027431249618530273\n",
      "# ----------------------------------------------------------\n",
      "#   Solution Information\n",
      "# ----------------------------------------------------------\n",
      "Solution: \n",
      "- number of solutions: 0\n",
      "  number of solutions displayed: 0\n"
     ]
    },
    {
     "data": {
      "text/plain": [
       "name\n",
       "Linine 0     0.210204\n",
       "Linine 1     0.278231\n",
       "Linine 2     0.989116\n",
       "Linine 3     0.710884\n",
       "Linine 4     0.068027\n",
       "Linine 5     0.135941\n",
       "Linine 6     0.828118\n",
       "Linine 7     0.955045\n",
       "Linine 8     0.964059\n",
       "Linine 9     0.710884\n",
       "Linine 10    0.989116\n",
       "Linine 11    0.194955\n",
       "Name: now, dtype: float64"
      ]
     },
     "execution_count": 9,
     "metadata": {},
     "output_type": "execute_result"
    }
   ],
   "source": [
    "to_remove = network.lines.index[4:5]\n",
    "\n",
    "network.sclopf(now,branch_outages=to_remove, solver_name='cbc')\n",
    "\n",
    "network.generators_t.p_set = network.generators_t.p_set.reindex(columns=network.generators.index)\n",
    "network.generators_t.p_set.loc[now] = network.generators_t.p.loc[now]\n",
    "\n",
    "vals = abs(network.lines_t.p0)/network.lines.s_nom\n",
    "vals.loc[\"now\"] "
   ]
  },
  {
   "cell_type": "code",
   "execution_count": 10,
   "id": "c786aadb",
   "metadata": {},
   "outputs": [],
   "source": [
    "network.remove(\"Line\",to_remove[0])\n",
    "#network.lopf()"
   ]
  },
  {
   "cell_type": "code",
   "execution_count": 11,
   "id": "28b2b883",
   "metadata": {},
   "outputs": [
    {
     "data": {
      "text/plain": [
       "name\n",
       "Linine 0     0.210204\n",
       "Linine 1     0.278231\n",
       "Linine 2     0.989116\n",
       "Linine 3     0.710884\n",
       "Linine 5     0.135941\n",
       "Linine 6     0.828118\n",
       "Linine 7     0.955045\n",
       "Linine 8     0.964059\n",
       "Linine 9     0.710884\n",
       "Linine 10    0.989116\n",
       "Linine 11    0.194955\n",
       "Name: now, dtype: float64"
      ]
     },
     "execution_count": 11,
     "metadata": {},
     "output_type": "execute_result"
    }
   ],
   "source": [
    "vals = abs(network.lines_t.p0)/network.lines.s_nom\n",
    "vals.loc[\"now\"]"
   ]
  },
  {
   "cell_type": "code",
   "execution_count": null,
   "id": "5bf5fcdf",
   "metadata": {},
   "outputs": [],
   "source": []
  }
 ],
 "metadata": {
  "kernelspec": {
   "display_name": "Python 3 (ipykernel)",
   "language": "python",
   "name": "python3"
  },
  "language_info": {
   "codemirror_mode": {
    "name": "ipython",
    "version": 3
   },
   "file_extension": ".py",
   "mimetype": "text/x-python",
   "name": "python",
   "nbconvert_exporter": "python",
   "pygments_lexer": "ipython3",
   "version": "3.7.2"
  }
 },
 "nbformat": 4,
 "nbformat_minor": 5
}
