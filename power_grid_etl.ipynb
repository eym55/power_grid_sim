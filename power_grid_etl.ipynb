{
 "cells": [
  {
   "cell_type": "code",
   "execution_count": 1,
   "metadata": {},
   "outputs": [],
   "source": [
    "import pandas as pd\n",
    "import pypsa\n",
    "import numpy as np\n",
    "network = pypsa.Network()"
   ]
  },
  {
   "cell_type": "code",
   "execution_count": 30,
   "metadata": {},
   "outputs": [],
   "source": [
    "bus = pd.read_csv('data/base_grid/bus.csv')\n",
    "sub = pd.read_csv('data/base_grid/sub.csv')\n",
    "sub = sub.drop(columns = 'interconnect')\n",
    "bus2sub = pd.read_csv('data/base_grid/bus2sub.csv')\n",
    "bus2sub = bus2sub.drop(columns = 'interconnect')"
   ]
  },
  {
   "cell_type": "code",
   "execution_count": 31,
   "metadata": {},
   "outputs": [],
   "source": [
    "buses = bus.merge(bus2sub, how = 'left', on='bus_id')\n",
    "buses = buses.merge(sub,how='left',on='sub_id')"
   ]
  },
  {
   "cell_type": "code",
   "execution_count": 32,
   "metadata": {},
   "outputs": [],
   "source": [
    "buses['Va'] = buses['Va'].apply(np.deg2rad)\n",
    "buses['control'] = buses['type'].map({1:'PQ',2:'PV'})\n",
    "buses.drop(inplace=True,columns = ['type'])\n",
    "buses.dropna(subset=['control'],inplace=True)"
   ]
  },
  {
   "cell_type": "code",
   "execution_count": 33,
   "metadata": {},
   "outputs": [],
   "source": [
    "buses = buses.set_index('bus_id')\n",
    "buses_columns = {'lat':'y',\n",
    "                                'lon':'x',\n",
    "                                'Vm':'v_mag_pu',\n",
    "                                'Pd':'p',\n",
    "                                'Qd':'q',\n",
    "                                'Va':'v_ang',\n",
    "                                'baseKV':'v_nom',\n",
    "                                'Vmax':'v_mag_pu_max',\n",
    "                                'Vmin':'v_mag_pu_min'}\n",
    "\n",
    "buses = buses.rename(columns = buses_columns)\n",
    "buses = buses[buses_columns.values()]"
   ]
  },
  {
   "cell_type": "code",
   "execution_count": 34,
   "metadata": {},
   "outputs": [
    {
     "data": {
      "text/html": [
       "<div>\n",
       "<style scoped>\n",
       "    .dataframe tbody tr th:only-of-type {\n",
       "        vertical-align: middle;\n",
       "    }\n",
       "\n",
       "    .dataframe tbody tr th {\n",
       "        vertical-align: top;\n",
       "    }\n",
       "\n",
       "    .dataframe thead th {\n",
       "        text-align: right;\n",
       "    }\n",
       "</style>\n",
       "<table border=\"1\" class=\"dataframe\">\n",
       "  <thead>\n",
       "    <tr style=\"text-align: right;\">\n",
       "      <th></th>\n",
       "      <th>y</th>\n",
       "      <th>x</th>\n",
       "      <th>v_mag_pu</th>\n",
       "      <th>p</th>\n",
       "      <th>q</th>\n",
       "      <th>v_ang</th>\n",
       "      <th>v_nom</th>\n",
       "      <th>v_mag_pu_max</th>\n",
       "      <th>v_mag_pu_min</th>\n",
       "    </tr>\n",
       "    <tr>\n",
       "      <th>bus_id</th>\n",
       "      <th></th>\n",
       "      <th></th>\n",
       "      <th></th>\n",
       "      <th></th>\n",
       "      <th></th>\n",
       "      <th></th>\n",
       "      <th></th>\n",
       "      <th></th>\n",
       "      <th></th>\n",
       "    </tr>\n",
       "  </thead>\n",
       "  <tbody>\n",
       "    <tr>\n",
       "      <th>1</th>\n",
       "      <td>43.9761</td>\n",
       "      <td>-70.2211</td>\n",
       "      <td>1.03511</td>\n",
       "      <td>0.00</td>\n",
       "      <td>0.00</td>\n",
       "      <td>-1.124168</td>\n",
       "      <td>230.0</td>\n",
       "      <td>1.1</td>\n",
       "      <td>0.9</td>\n",
       "    </tr>\n",
       "    <tr>\n",
       "      <th>2</th>\n",
       "      <td>43.9761</td>\n",
       "      <td>-70.2211</td>\n",
       "      <td>1.03706</td>\n",
       "      <td>0.00</td>\n",
       "      <td>0.00</td>\n",
       "      <td>-1.139032</td>\n",
       "      <td>115.0</td>\n",
       "      <td>1.1</td>\n",
       "      <td>0.9</td>\n",
       "    </tr>\n",
       "    <tr>\n",
       "      <th>3</th>\n",
       "      <td>43.9761</td>\n",
       "      <td>-70.2211</td>\n",
       "      <td>1.03293</td>\n",
       "      <td>9.97</td>\n",
       "      <td>1.30</td>\n",
       "      <td>-1.165906</td>\n",
       "      <td>18.0</td>\n",
       "      <td>1.1</td>\n",
       "      <td>0.9</td>\n",
       "    </tr>\n",
       "    <tr>\n",
       "      <th>4</th>\n",
       "      <td>43.9761</td>\n",
       "      <td>-70.2211</td>\n",
       "      <td>1.03744</td>\n",
       "      <td>0.00</td>\n",
       "      <td>0.00</td>\n",
       "      <td>-1.140197</td>\n",
       "      <td>1.0</td>\n",
       "      <td>1.1</td>\n",
       "      <td>0.9</td>\n",
       "    </tr>\n",
       "    <tr>\n",
       "      <th>5</th>\n",
       "      <td>43.9761</td>\n",
       "      <td>-70.2211</td>\n",
       "      <td>1.03607</td>\n",
       "      <td>0.00</td>\n",
       "      <td>0.00</td>\n",
       "      <td>-1.124050</td>\n",
       "      <td>230.0</td>\n",
       "      <td>1.1</td>\n",
       "      <td>0.9</td>\n",
       "    </tr>\n",
       "    <tr>\n",
       "      <th>...</th>\n",
       "      <td>...</td>\n",
       "      <td>...</td>\n",
       "      <td>...</td>\n",
       "      <td>...</td>\n",
       "      <td>...</td>\n",
       "      <td>...</td>\n",
       "      <td>...</td>\n",
       "      <td>...</td>\n",
       "      <td>...</td>\n",
       "    </tr>\n",
       "    <tr>\n",
       "      <th>3008156</th>\n",
       "      <td>31.0919</td>\n",
       "      <td>-96.6950</td>\n",
       "      <td>1.02611</td>\n",
       "      <td>0.00</td>\n",
       "      <td>0.00</td>\n",
       "      <td>-0.804766</td>\n",
       "      <td>230.0</td>\n",
       "      <td>1.1</td>\n",
       "      <td>0.9</td>\n",
       "    </tr>\n",
       "    <tr>\n",
       "      <th>3008157</th>\n",
       "      <td>31.0919</td>\n",
       "      <td>-96.6950</td>\n",
       "      <td>1.02808</td>\n",
       "      <td>0.00</td>\n",
       "      <td>0.00</td>\n",
       "      <td>-0.872862</td>\n",
       "      <td>115.0</td>\n",
       "      <td>1.1</td>\n",
       "      <td>0.9</td>\n",
       "    </tr>\n",
       "    <tr>\n",
       "      <th>3008158</th>\n",
       "      <td>30.7217</td>\n",
       "      <td>-96.4608</td>\n",
       "      <td>1.02650</td>\n",
       "      <td>0.00</td>\n",
       "      <td>0.00</td>\n",
       "      <td>-0.688833</td>\n",
       "      <td>500.0</td>\n",
       "      <td>1.1</td>\n",
       "      <td>0.9</td>\n",
       "    </tr>\n",
       "    <tr>\n",
       "      <th>3008159</th>\n",
       "      <td>30.7217</td>\n",
       "      <td>-96.4608</td>\n",
       "      <td>1.03000</td>\n",
       "      <td>0.00</td>\n",
       "      <td>0.00</td>\n",
       "      <td>-0.744187</td>\n",
       "      <td>230.0</td>\n",
       "      <td>1.1</td>\n",
       "      <td>0.9</td>\n",
       "    </tr>\n",
       "    <tr>\n",
       "      <th>3008160</th>\n",
       "      <td>30.7217</td>\n",
       "      <td>-96.4608</td>\n",
       "      <td>1.02671</td>\n",
       "      <td>90.76</td>\n",
       "      <td>25.71</td>\n",
       "      <td>-0.799172</td>\n",
       "      <td>115.0</td>\n",
       "      <td>1.1</td>\n",
       "      <td>0.9</td>\n",
       "    </tr>\n",
       "  </tbody>\n",
       "</table>\n",
       "<p>82068 rows × 9 columns</p>\n",
       "</div>"
      ],
      "text/plain": [
       "               y        x  v_mag_pu      p      q     v_ang  v_nom  \\\n",
       "bus_id                                                               \n",
       "1        43.9761 -70.2211   1.03511   0.00   0.00 -1.124168  230.0   \n",
       "2        43.9761 -70.2211   1.03706   0.00   0.00 -1.139032  115.0   \n",
       "3        43.9761 -70.2211   1.03293   9.97   1.30 -1.165906   18.0   \n",
       "4        43.9761 -70.2211   1.03744   0.00   0.00 -1.140197    1.0   \n",
       "5        43.9761 -70.2211   1.03607   0.00   0.00 -1.124050  230.0   \n",
       "...          ...      ...       ...    ...    ...       ...    ...   \n",
       "3008156  31.0919 -96.6950   1.02611   0.00   0.00 -0.804766  230.0   \n",
       "3008157  31.0919 -96.6950   1.02808   0.00   0.00 -0.872862  115.0   \n",
       "3008158  30.7217 -96.4608   1.02650   0.00   0.00 -0.688833  500.0   \n",
       "3008159  30.7217 -96.4608   1.03000   0.00   0.00 -0.744187  230.0   \n",
       "3008160  30.7217 -96.4608   1.02671  90.76  25.71 -0.799172  115.0   \n",
       "\n",
       "         v_mag_pu_max  v_mag_pu_min  \n",
       "bus_id                               \n",
       "1                 1.1           0.9  \n",
       "2                 1.1           0.9  \n",
       "3                 1.1           0.9  \n",
       "4                 1.1           0.9  \n",
       "5                 1.1           0.9  \n",
       "...               ...           ...  \n",
       "3008156           1.1           0.9  \n",
       "3008157           1.1           0.9  \n",
       "3008158           1.1           0.9  \n",
       "3008159           1.1           0.9  \n",
       "3008160           1.1           0.9  \n",
       "\n",
       "[82068 rows x 9 columns]"
      ]
     },
     "execution_count": 34,
     "metadata": {},
     "output_type": "execute_result"
    }
   ],
   "source": [
    "buses"
   ]
  },
  {
   "cell_type": "code",
   "execution_count": 35,
   "metadata": {},
   "outputs": [
    {
     "name": "stderr",
     "output_type": "stream",
     "text": [
      "ERROR:pypsa.io:Error, new components for Bus are not unique\n"
     ]
    }
   ],
   "source": [
    "network.import_components_from_dataframe(buses,\"Bus\")"
   ]
  },
  {
   "cell_type": "code",
   "execution_count": 40,
   "metadata": {},
   "outputs": [
    {
     "name": "stdout",
     "output_type": "stream",
     "text": [
      "Index(['plant_id', 'bus_id', 'Pg', 'Qg', 'Qmax', 'Qmin', 'Vg', 'mBase',\n",
      "       'status', 'Pmax', 'Pmin', 'Pc1', 'Pc2', 'Qc1min', 'Qc1max', 'Qc2min',\n",
      "       'Qc2max', 'ramp_agc', 'ramp_10', 'ramp_30', 'ramp_q', 'apf', 'mu_Pmax',\n",
      "       'mu_Pmin', 'mu_Qmax', 'mu_Qmin', 'type', 'interconnect', 'GenFuelCost',\n",
      "       'GenIOB', 'GenIOC', 'GenIOD'],\n",
      "      dtype='object')\n"
     ]
    }
   ],
   "source": [
    "generators = pd.read_csv('data/base_grid/plant.csv')\n",
    "print(generators.columns)\n",
    "cost = pd.read_csv('data/base_grid/gencost.csv')\n",
    "generators = generators.merge(cost.drop(columns = ['type','interconnect']),how='left',on='plant_id')\n",
    "generators = generators.merge(bus.drop(columns = ['type', 'interconnect']),how='left',on='bus_id')\n"
   ]
  },
  {
   "cell_type": "code",
   "execution_count": 41,
   "metadata": {},
   "outputs": [
    {
     "data": {
      "text/plain": [
       "Index(['bus_id', 'type', 'Pd', 'Qd', 'Gs', 'Bs', 'zone_id', 'Vm', 'Va',\n",
       "       'baseKV', 'loss_zone', 'Vmax', 'Vmin', 'lam_P', 'lam_Q', 'mu_Vmax',\n",
       "       'mu_Vmin', 'interconnect'],\n",
       "      dtype='object')"
      ]
     },
     "execution_count": 41,
     "metadata": {},
     "output_type": "execute_result"
    }
   ],
   "source": [
    "bus.columns"
   ]
  },
  {
   "cell_type": "code",
   "execution_count": 42,
   "metadata": {},
   "outputs": [
    {
     "data": {
      "text/plain": [
       "Index(['plant_id', 'bus_id', 'Pg', 'Qg', 'Qmax', 'Qmin', 'Vg', 'mBase',\n",
       "       'status', 'Pmax', 'Pmin', 'Pc1', 'Pc2', 'Qc1min', 'Qc1max', 'Qc2min',\n",
       "       'Qc2max', 'ramp_agc', 'ramp_10', 'ramp_30', 'ramp_q', 'apf', 'mu_Pmax',\n",
       "       'mu_Pmin', 'mu_Qmax', 'mu_Qmin', 'type', 'interconnect', 'GenFuelCost',\n",
       "       'GenIOB', 'GenIOC', 'GenIOD', 'startup', 'shutdown', 'n', 'c2', 'c1',\n",
       "       'c0', 'Pd', 'Qd', 'Gs', 'Bs', 'zone_id', 'Vm', 'Va', 'baseKV',\n",
       "       'loss_zone', 'Vmax', 'Vmin', 'lam_P', 'lam_Q', 'mu_Vmax', 'mu_Vmin'],\n",
       "      dtype='object')"
      ]
     },
     "execution_count": 42,
     "metadata": {},
     "output_type": "execute_result"
    }
   ],
   "source": [
    "generators.columns"
   ]
  },
  {
   "cell_type": "code",
   "execution_count": null,
   "metadata": {},
   "outputs": [],
   "source": []
  }
 ],
 "metadata": {
  "kernelspec": {
   "display_name": "Python 3",
   "language": "python",
   "name": "python3"
  },
  "language_info": {
   "codemirror_mode": {
    "name": "ipython",
    "version": 3
   },
   "file_extension": ".py",
   "mimetype": "text/x-python",
   "name": "python",
   "nbconvert_exporter": "python",
   "pygments_lexer": "ipython3",
   "version": "3.7.6"
  }
 },
 "nbformat": 4,
 "nbformat_minor": 4
}
