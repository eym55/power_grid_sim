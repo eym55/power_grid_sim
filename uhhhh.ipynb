{
 "cells": [
  {
   "cell_type": "code",
   "execution_count": 1,
   "id": "e9498842",
   "metadata": {},
   "outputs": [],
   "source": [
    "import pandas as pd\n",
    "import pypsa\n",
    "import numpy as np\n",
    "import matplotlib.pyplot as plt, mpld3\n",
    "network = pypsa.Network()\n",
    "\n",
    "pd.set_option(\"display.max_columns\", 30)"
   ]
  },
  {
   "cell_type": "code",
   "execution_count": 2,
   "id": "f8ec1ae8",
   "metadata": {},
   "outputs": [
    {
     "name": "stderr",
     "output_type": "stream",
     "text": [
      "INFO:numexpr.utils:NumExpr defaulting to 8 threads.\n"
     ]
    }
   ],
   "source": [
    "#FORMATTING\n",
    "bus = pd.read_csv('data/base_grid/bus.csv')\n",
    "sub = pd.read_csv('data/base_grid/sub.csv')\n",
    "sub = sub.drop(columns = 'interconnect')\n",
    "bus2sub = pd.read_csv('data/base_grid/bus2sub.csv')\n",
    "bus2sub = bus2sub.drop(columns = 'interconnect')\n",
    "buses = bus.merge(bus2sub, how = 'left', on='bus_id')\n",
    "buses = buses.merge(sub,how='left',on='sub_id')\n",
    "buses['Va'] = buses['Va'].apply(np.deg2rad)\n",
    "buses['control'] = buses['type'].map({1:'PQ',2:'PV'})\n",
    "buses.drop(inplace=True,columns = ['type'])\n",
    "buses.dropna(subset=['control'],inplace=True)\n",
    "texas = buses[buses['interconnect'] == 'Texas']\n",
    "texas = texas.set_index('bus_id')\n",
    "buses_columns = {'lat':'y',\n",
    "    'lon':'x',\n",
    "    'Vm':'v_mag_pu',\n",
    "    'Pd':'p',\n",
    "    'Qd':'q',\n",
    "    'Va':'v_ang',\n",
    "    'baseKV':'v_nom',\n",
    "    'Vmax':'v_mag_pu_max',\n",
    "    'Vmin':'v_mag_pu_min'}\n",
    "\n",
    "texas = texas.rename(columns = buses_columns)\n",
    "texas = texas[buses_columns.values()]"
   ]
  },
  {
   "cell_type": "code",
   "execution_count": null,
   "id": "63f12db1",
   "metadata": {},
   "outputs": [],
   "source": []
  },
  {
   "cell_type": "code",
   "execution_count": 3,
   "id": "64fc4b18",
   "metadata": {},
   "outputs": [],
   "source": [
    "#ADDING BUSES AND LOADS\n",
    "for i in range(len(texas)):\n",
    "    load = texas.iloc[i][3]\n",
    "    network.add(\"Bus\",texas.index[i], x = texas.iloc[i][1], y = texas.iloc[i][0])\n",
    "    network.add(\"Load\",texas.index[i], bus = texas.index[i], p_set = load)\n"
   ]
  },
  {
   "cell_type": "code",
   "execution_count": 4,
   "id": "8e708b59",
   "metadata": {},
   "outputs": [],
   "source": [
    "#FORMATTING\n",
    "generators = pd.read_csv('data/base_grid/plant.csv')\n",
    "cost = pd.read_csv('data/base_grid/gencost.csv')\n",
    "generators = generators.merge(cost.drop(columns = ['type','interconnect']),how='left',on='plant_id')\n",
    "generators = generators.merge(bus.drop(columns = ['type', 'interconnect']),how='left',on='bus_id')\n",
    "generators = generators.merge(bus[['bus_id','type']].rename(columns = {'type':'control'}),how='left',on='bus_id')\n",
    "texas_generators = generators[generators.interconnect == 'Texas'].copy()\n",
    "branches = pd.read_csv('data/base_grid/branch.csv')\n",
    "texas_branches = branches[branches['interconnect'] == 'Texas'].copy()\n",
    "texas_branches.drop(103363, axis=0, inplace=True)\n",
    "texas_generators.drop(13253, axis=0, inplace=True)"
   ]
  },
  {
   "cell_type": "code",
   "execution_count": 5,
   "id": "d90389ef",
   "metadata": {},
   "outputs": [],
   "source": [
    "#ADDING LINES\n",
    "for i in range(len(texas_branches)):\n",
    "    name = texas_branches.iloc[i][0]\n",
    "    busZero = texas_branches.iloc[i][1]\n",
    "    busOne = texas_branches.iloc[i][2]\n",
    "    react = texas_branches.iloc[i][4]\n",
    "    resist = texas_branches.iloc[i][3]\n",
    "    rateA = texas_branches.iloc[i][6]\n",
    "    network.add(\"Line\",name,bus0=busZero, bus1=busOne,x=react,r = resist, s_nom = rateA)\n",
    "\n",
    "#ADDING GENERATORS\n",
    "texasNamesList = texas.index.values.tolist()\n",
    "for i in range(len(texas)):\n",
    "    busLoc = texas.iloc[i][1]\n",
    "    genList = texas_generators.loc[:,'bus_id'].tolist()\n",
    "    if texasNamesList[i] in genList:\n",
    "        pMax = texas_generators.loc[texas_generators['bus_id'] == texasNamesList[i]].iloc[0,9]\n",
    "        network.add(\"Generator\", i, bus = texasNamesList[i],p_nom = pMax, marginal_cost = 1)"
   ]
  },
  {
   "cell_type": "code",
   "execution_count": 6,
   "id": "8898ff45",
   "metadata": {
    "scrolled": true
   },
   "outputs": [
    {
     "name": "stderr",
     "output_type": "stream",
     "text": [
      "INFO:pypsa.pf:Performing non-linear load-flow on AC sub-network SubNetwork 0 for snapshots Index(['now'], dtype='object')\n",
      "/Library/Frameworks/Python.framework/Versions/3.7/lib/python3.7/site-packages/scipy/sparse/linalg/dsolve/linsolve.py:206: MatrixRankWarning:\n",
      "\n",
      "Matrix is exactly singular\n",
      "\n",
      "INFO:pypsa.pf:Newton-Raphson solved in 75 iterations with error of nan in 3.160536 seconds\n"
     ]
    },
    {
     "data": {
      "text/plain": [
       "{'n_iter':       0\n",
       " now  75,\n",
       " 'error':       0\n",
       " now NaN,\n",
       " 'converged':          0\n",
       " now  False}"
      ]
     },
     "execution_count": 6,
     "metadata": {},
     "output_type": "execute_result"
    }
   ],
   "source": [
    "network.pf() "
   ]
  },
  {
   "cell_type": "code",
   "execution_count": 7,
   "id": "02d986f3",
   "metadata": {
    "scrolled": false
   },
   "outputs": [
    {
     "name": "stderr",
     "output_type": "stream",
     "text": [
      "INFO:pypsa.linopf:Prepare linear problem\n",
      "INFO:pypsa.linopf:Total preparation time: 15.06s\n",
      "INFO:pypsa.linopf:Solve linear problem using Cbc solver\n",
      "WARNING:pypsa.linopf:Optimization failed with status warning and termination condition infeasible\n"
     ]
    },
    {
     "data": {
      "text/plain": [
       "('warning', 'infeasible')"
      ]
     },
     "execution_count": 7,
     "metadata": {},
     "output_type": "execute_result"
    }
   ],
   "source": [
    "network.lopf(solver_name='cbc',pyomo=False)"
   ]
  },
  {
   "cell_type": "code",
   "execution_count": 14,
   "id": "b54329d6",
   "metadata": {},
   "outputs": [
    {
     "data": {
      "text/plain": [
       "{'p_min_pu': Empty DataFrame\n",
       " Columns: []\n",
       " Index: [now],\n",
       " 'p_max_pu': Empty DataFrame\n",
       " Columns: []\n",
       " Index: [now],\n",
       " 'p_set': Empty DataFrame\n",
       " Columns: []\n",
       " Index: [now],\n",
       " 'q_set': Empty DataFrame\n",
       " Columns: []\n",
       " Index: [now],\n",
       " 'marginal_cost': Empty DataFrame\n",
       " Columns: []\n",
       " Index: [now],\n",
       " 'p':       2    3    5    7    8   10   12   14   15   20   22   25   27   31   32  \\\n",
       " now NaN  0.0  0.0  0.0  0.0  0.0  0.0  0.0  0.0  0.0  0.0  0.0  0.0  0.0  0.0   \n",
       " \n",
       "      ...  1917  1918  1925  1926  1937  1953  1954  1955  1967  1968  1969  \\\n",
       " now  ...   0.0   0.0   0.0   0.0   0.0   0.0   0.0   0.0   0.0   0.0   0.0   \n",
       " \n",
       "      1985  1990  1993  1996  \n",
       " now   0.0   0.0   0.0   0.0  \n",
       " \n",
       " [1 rows x 523 columns],\n",
       " 'q':       2    3    5    7    8   10   12   14   15   20   22   25   27   31   32  \\\n",
       " now NaN  0.0  0.0  0.0  0.0  0.0  0.0  0.0  0.0  0.0  0.0  0.0  0.0  0.0  0.0   \n",
       " \n",
       "      ...  1917  1918  1925  1926  1937  1953  1954  1955  1967  1968  1969  \\\n",
       " now  ...   0.0   0.0   0.0   0.0   0.0   0.0   0.0   0.0   0.0   0.0   0.0   \n",
       " \n",
       "      1985  1990  1993  1996  \n",
       " now   0.0   0.0   0.0   0.0  \n",
       " \n",
       " [1 rows x 523 columns],\n",
       " 'status': Empty DataFrame\n",
       " Columns: []\n",
       " Index: [now],\n",
       " 'mu_upper': Empty DataFrame\n",
       " Columns: []\n",
       " Index: [now],\n",
       " 'mu_lower': Empty DataFrame\n",
       " Columns: []\n",
       " Index: [now],\n",
       " 'mu_p_set': Empty DataFrame\n",
       " Columns: []\n",
       " Index: [now],\n",
       " 'mu_ramp_limit_up': Empty DataFrame\n",
       " Columns: []\n",
       " Index: [now],\n",
       " 'mu_ramp_limit_down': Empty DataFrame\n",
       " Columns: []\n",
       " Index: [now]}"
      ]
     },
     "execution_count": 14,
     "metadata": {},
     "output_type": "execute_result"
    }
   ],
   "source": [
    "now = network.snapshots[0]\n",
    "network.generators_t"
   ]
  },
  {
   "cell_type": "code",
   "execution_count": 9,
   "id": "f33a8f36",
   "metadata": {},
   "outputs": [
    {
     "name": "stderr",
     "output_type": "stream",
     "text": [
      "/Library/Frameworks/Python.framework/Versions/3.7/lib/python3.7/site-packages/pypsa/plot.py:149: MatplotlibDeprecationWarning:\n",
      "\n",
      "Calling gca() with keyword arguments was deprecated in Matplotlib 3.4. Starting two minor releases later, gca() will take no keyword arguments. The gca() function should only be used to get the current axes, or if no axes exist, create new axes with default keyword arguments. To create a new axes with non-default arguments, use plt.axes() or plt.subplot().\n",
      "\n"
     ]
    },
    {
     "ename": "AttributeError",
     "evalue": "'AxesSubplot' object has no attribute 'add_feature'",
     "output_type": "error",
     "traceback": [
      "\u001b[0;31m---------------------------------------------------------------------------\u001b[0m",
      "\u001b[0;31mAttributeError\u001b[0m                            Traceback (most recent call last)",
      "\u001b[0;32m/var/folders/35/mjfp7drx4jqcy1b86n5t_5h40000gn/T/ipykernel_5292/3837994348.py\u001b[0m in \u001b[0;36m<module>\u001b[0;34m\u001b[0m\n\u001b[1;32m      3\u001b[0m \u001b[0mcolor\u001b[0m \u001b[0;34m=\u001b[0m \u001b[0mnetwork\u001b[0m\u001b[0;34m.\u001b[0m\u001b[0mloads\u001b[0m\u001b[0;34m.\u001b[0m\u001b[0mp_set\u001b[0m\u001b[0;34m\u001b[0m\u001b[0;34m\u001b[0m\u001b[0m\n\u001b[1;32m      4\u001b[0m \u001b[0mfig\u001b[0m\u001b[0;34m,\u001b[0m \u001b[0max\u001b[0m \u001b[0;34m=\u001b[0m \u001b[0mplt\u001b[0m\u001b[0;34m.\u001b[0m\u001b[0msubplots\u001b[0m\u001b[0;34m(\u001b[0m\u001b[0mfigsize\u001b[0m\u001b[0;34m=\u001b[0m\u001b[0;34m(\u001b[0m\u001b[0;36m12\u001b[0m\u001b[0;34m,\u001b[0m \u001b[0;36m6\u001b[0m\u001b[0;34m)\u001b[0m\u001b[0;34m)\u001b[0m\u001b[0;34m\u001b[0m\u001b[0;34m\u001b[0m\u001b[0m\n\u001b[0;32m----> 5\u001b[0;31m \u001b[0mdata\u001b[0m \u001b[0;34m=\u001b[0m \u001b[0mnetwork\u001b[0m\u001b[0;34m.\u001b[0m\u001b[0mplot\u001b[0m\u001b[0;34m(\u001b[0m\u001b[0mbus_colors\u001b[0m\u001b[0;34m=\u001b[0m\u001b[0mcolor\u001b[0m\u001b[0;34m,\u001b[0m \u001b[0mbus_cmap\u001b[0m\u001b[0;34m=\u001b[0m\u001b[0mplt\u001b[0m\u001b[0;34m.\u001b[0m\u001b[0mcm\u001b[0m\u001b[0;34m.\u001b[0m\u001b[0mRdYlGn\u001b[0m\u001b[0;34m,\u001b[0m \u001b[0mline_widths\u001b[0m \u001b[0;34m=\u001b[0m \u001b[0;36m2.0\u001b[0m\u001b[0;34m,\u001b[0m \u001b[0mbus_sizes\u001b[0m \u001b[0;34m=\u001b[0m \u001b[0;36m.01\u001b[0m\u001b[0;34m)\u001b[0m\u001b[0;34m\u001b[0m\u001b[0;34m\u001b[0m\u001b[0m\n\u001b[0m\u001b[1;32m      6\u001b[0m \u001b[0;34m\u001b[0m\u001b[0m\n\u001b[1;32m      7\u001b[0m \u001b[0mbusTooltip\u001b[0m \u001b[0;34m=\u001b[0m \u001b[0mmpld3\u001b[0m\u001b[0;34m.\u001b[0m\u001b[0mplugins\u001b[0m\u001b[0;34m.\u001b[0m\u001b[0mPointHTMLTooltip\u001b[0m\u001b[0;34m(\u001b[0m\u001b[0mdata\u001b[0m\u001b[0;34m[\u001b[0m\u001b[0;36m0\u001b[0m\u001b[0;34m]\u001b[0m\u001b[0;34m,\u001b[0m \u001b[0mbusValue\u001b[0m\u001b[0;34m,\u001b[0m\u001b[0;36m0\u001b[0m\u001b[0;34m,\u001b[0m\u001b[0;36m0\u001b[0m\u001b[0;34m,\u001b[0m\u001b[0;34m-\u001b[0m\u001b[0;36m50\u001b[0m\u001b[0;34m)\u001b[0m\u001b[0;34m\u001b[0m\u001b[0;34m\u001b[0m\u001b[0m\n",
      "\u001b[0;32m/Library/Frameworks/Python.framework/Versions/3.7/lib/python3.7/site-packages/pypsa/plot.py\u001b[0m in \u001b[0;36mplot\u001b[0;34m(n, margin, ax, geomap, projection, bus_colors, bus_alpha, bus_sizes, bus_cmap, line_colors, link_colors, transformer_colors, line_widths, link_widths, transformer_widths, line_cmap, link_cmap, transformer_cmap, flow, branch_components, layouter, title, boundaries, geometry, jitter, color_geomap)\u001b[0m\n\u001b[1;32m    154\u001b[0m                     \u001b[0;34m'fig, ax = plt.subplots('\u001b[0m\u001b[0;34m\u001b[0m\u001b[0;34m\u001b[0m\u001b[0m\n\u001b[1;32m    155\u001b[0m                     'subplot_kw={\"projection\":ccrs.PlateCarree()})')\n\u001b[0;32m--> 156\u001b[0;31m         \u001b[0mtransform\u001b[0m \u001b[0;34m=\u001b[0m \u001b[0mdraw_map_cartopy\u001b[0m\u001b[0;34m(\u001b[0m\u001b[0mn\u001b[0m\u001b[0;34m,\u001b[0m \u001b[0mx\u001b[0m\u001b[0;34m,\u001b[0m \u001b[0my\u001b[0m\u001b[0;34m,\u001b[0m \u001b[0max\u001b[0m\u001b[0;34m,\u001b[0m \u001b[0mgeomap\u001b[0m\u001b[0;34m,\u001b[0m \u001b[0mcolor_geomap\u001b[0m\u001b[0;34m)\u001b[0m\u001b[0;34m\u001b[0m\u001b[0;34m\u001b[0m\u001b[0m\n\u001b[0m\u001b[1;32m    157\u001b[0m         \u001b[0mx\u001b[0m\u001b[0;34m,\u001b[0m \u001b[0my\u001b[0m\u001b[0;34m,\u001b[0m \u001b[0mz\u001b[0m \u001b[0;34m=\u001b[0m \u001b[0max\u001b[0m\u001b[0;34m.\u001b[0m\u001b[0mprojection\u001b[0m\u001b[0;34m.\u001b[0m\u001b[0mtransform_points\u001b[0m\u001b[0;34m(\u001b[0m\u001b[0mtransform\u001b[0m\u001b[0;34m,\u001b[0m \u001b[0mx\u001b[0m\u001b[0;34m.\u001b[0m\u001b[0mvalues\u001b[0m\u001b[0;34m,\u001b[0m \u001b[0my\u001b[0m\u001b[0;34m.\u001b[0m\u001b[0mvalues\u001b[0m\u001b[0;34m)\u001b[0m\u001b[0;34m.\u001b[0m\u001b[0mT\u001b[0m\u001b[0;34m\u001b[0m\u001b[0;34m\u001b[0m\u001b[0m\n\u001b[1;32m    158\u001b[0m         \u001b[0mx\u001b[0m\u001b[0;34m,\u001b[0m \u001b[0my\u001b[0m \u001b[0;34m=\u001b[0m \u001b[0mpd\u001b[0m\u001b[0;34m.\u001b[0m\u001b[0mSeries\u001b[0m\u001b[0;34m(\u001b[0m\u001b[0mx\u001b[0m\u001b[0;34m,\u001b[0m \u001b[0mn\u001b[0m\u001b[0;34m.\u001b[0m\u001b[0mbuses\u001b[0m\u001b[0;34m.\u001b[0m\u001b[0mindex\u001b[0m\u001b[0;34m)\u001b[0m\u001b[0;34m,\u001b[0m \u001b[0mpd\u001b[0m\u001b[0;34m.\u001b[0m\u001b[0mSeries\u001b[0m\u001b[0;34m(\u001b[0m\u001b[0my\u001b[0m\u001b[0;34m,\u001b[0m \u001b[0mn\u001b[0m\u001b[0;34m.\u001b[0m\u001b[0mbuses\u001b[0m\u001b[0;34m.\u001b[0m\u001b[0mindex\u001b[0m\u001b[0;34m)\u001b[0m\u001b[0;34m\u001b[0m\u001b[0;34m\u001b[0m\u001b[0m\n",
      "\u001b[0;32m/Library/Frameworks/Python.framework/Versions/3.7/lib/python3.7/site-packages/pypsa/plot.py\u001b[0m in \u001b[0;36mdraw_map_cartopy\u001b[0;34m(n, x, y, ax, geomap, color_geomap)\u001b[0m\n\u001b[1;32m    384\u001b[0m         \u001b[0mcolor_geomap\u001b[0m \u001b[0;34m=\u001b[0m \u001b[0;34m{\u001b[0m\u001b[0;34m'ocean'\u001b[0m\u001b[0;34m:\u001b[0m \u001b[0;34m'lightblue'\u001b[0m\u001b[0;34m,\u001b[0m \u001b[0;34m'land'\u001b[0m\u001b[0;34m:\u001b[0m \u001b[0;34m'whitesmoke'\u001b[0m\u001b[0;34m}\u001b[0m\u001b[0;34m\u001b[0m\u001b[0;34m\u001b[0m\u001b[0m\n\u001b[1;32m    385\u001b[0m \u001b[0;34m\u001b[0m\u001b[0m\n\u001b[0;32m--> 386\u001b[0;31m     ax.add_feature(cartopy.feature.LAND.with_scale(resolution),\n\u001b[0m\u001b[1;32m    387\u001b[0m                     facecolor=color_geomap['land'])\n\u001b[1;32m    388\u001b[0m     ax.add_feature(cartopy.feature.OCEAN.with_scale(resolution),\n",
      "\u001b[0;31mAttributeError\u001b[0m: 'AxesSubplot' object has no attribute 'add_feature'"
     ]
    },
    {
     "data": {
      "image/png": "[encoded data removed]",
      "text/plain": [
       "<Figure size 864x432 with 1 Axes>"
      ]
     },
     "metadata": {
      "needs_background": "light"
     },
     "output_type": "display_data"
    }
   ],
   "source": [
    "busValue = list(network.buses.index)\n",
    "lineValue = list(network.lines.index)\n",
    "color = network.loads.p_set\n",
    "fig, ax = plt.subplots(figsize=(12, 6))\n",
    "data = network.plot(bus_colors=color, bus_cmap=plt.cm.RdYlGn, line_widths = 2.0, bus_sizes = .01)\n",
    "\n",
    "busTooltip = mpld3.plugins.PointHTMLTooltip(data[0], busValue,0,0,-50)\n",
    "lineTooltip = mpld3.plugins.PointHTMLTooltip(data[1], lineValue, 0, 0, -50)\n",
    "fileName = \"network\" + str(3) + \".html\"\n",
    "mpld3.plugins.connect(fig,lineTooltip)\n",
    "mpld3.plugins.connect(fig,busTooltip)\n",
    "mpld3.save_html(fig, fileName)"
   ]
  },
  {
   "cell_type": "code",
   "execution_count": null,
   "id": "c5000587",
   "metadata": {},
   "outputs": [],
   "source": []
  }
 ],
 "metadata": {
  "kernelspec": {
   "display_name": "Python 3 (ipykernel)",
   "language": "python",
   "name": "python3"
  },
  "language_info": {
   "codemirror_mode": {
    "name": "ipython",
    "version": 3
   },
   "file_extension": ".py",
   "mimetype": "text/x-python",
   "name": "python",
   "nbconvert_exporter": "python",
   "pygments_lexer": "ipython3",
   "version": "3.7.2"
  }
 },
 "nbformat": 4,
 "nbformat_minor": 5
}
